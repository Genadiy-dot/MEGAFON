{
 "cells": [
  {
   "cell_type": "markdown",
   "id": "fa0a17e9",
   "metadata": {},
   "source": [
    "# Курсовой проект МЕГАФОН"
   ]
  },
  {
   "cell_type": "markdown",
   "id": "c2b82450",
   "metadata": {},
   "source": [
    "### Постановка задачи"
   ]
  },
  {
   "cell_type": "markdown",
   "id": "0c45d300",
   "metadata": {},
   "source": [
    " У нас появился запрос из отдела продаж и маркетинга. Как вы знаете «МегаФон»\n",
    "предлагает обширный набор различных услуг своим абонентам. При этом разным\n",
    "пользователям интересны разные услуги. Поэтому необходимо построить\n",
    "алгоритм, который для каждой пары пользователь-услуга определит вероятность\n",
    "подключения услуги.\n"
   ]
  },
  {
   "cell_type": "markdown",
   "id": "32edc652",
   "metadata": {},
   "source": [
    "##### Итого, в качестве входных данных будут представлены:\n",
    "● data_train.csv: id, vas_id, buy_time, target\n",
    "● features.csv.zip: id, <feature_list>"
   ]
  },
  {
   "cell_type": "markdown",
   "id": "990718c1",
   "metadata": {},
   "source": [
    "##### И тестовый набор:\n",
    "● data_test.csv: id, vas_id, buy_time\n",
    "target - целевая переменная, где 1 означает подключение услуги, 0 - абонент\n",
    "не подключил услугу соответственно.\n",
    "buy_time - время покупки, представлено в формате timestamp, для работы с\n",
    "этим столбцом понадобится функция datetime.fromtimestamp из модуля\n",
    "datetime.\n",
    "id - идентификатор абонента\n",
    "vas_id - подключаемая услуга\n",
    "Примечание: Размер файла features.csv в распакованном виде весит 20 гб, для\n",
    "работы с ним можно воспользоваться pandas.read_csv, либо можно воспользоваться\n",
    "библиотекой Dask"
   ]
  },
  {
   "cell_type": "markdown",
   "id": "2b286036",
   "metadata": {},
   "source": [
    "##### Метрика\n",
    "Скоринг будет осуществляться функцией f1, невзвешенным образом, как например\n",
    "делает функция sklearn.metrics.f1_score(…, average=’macro’).\n",
    "sklearn.metrics.f1_score — scikit-learn 0.22.1 documentation"
   ]
  },
  {
   "cell_type": "markdown",
   "id": "7d932389",
   "metadata": {},
   "source": [
    "#### Формат представления результата\n",
    "1. Работающая модель в формате pickle, которая принимает файл data_test.csv\n",
    "из корневой папки и записывает в эту же папку файл answers_test.csv. В этом\n",
    "файле должны находится 4 столбца: buy_time, id, vas_id и target. Target можно\n",
    "записать как вероятность подключения услуги.\n",
    "2. Код модели можно представить в виде jupyter-ноутбука.\n",
    "3. Презентация в формате .pdf, в которой необходимо отразить:\n",
    "● Информация о модели, ее параметрах, особенностях и основных\n",
    "результатах.\n",
    "● Обоснование выбора модели и ее сравнение с альтернативами.\n",
    "● Принцип составления индивидуальных предложений для выбранных\n",
    "абонентов.\n",
    "Рекомендуемое количество слайдов – 5 – 10.\n",
    "Файл answers_test.csv с результатами работы модели, презентацию, ноутбуки и\n",
    "резюме необходимо прикрепить ко второму уроку “курсовой проект”."
   ]
  },
  {
   "cell_type": "code",
   "execution_count": 208,
   "id": "6bcf5c29",
   "metadata": {},
   "outputs": [],
   "source": [
    "import numpy as np\n",
    "import datetime\n",
    "import pandas as pd\n",
    "import dask.dataframe as dd\n",
    "from datetime import date\n",
    "import matplotlib.pyplot as plt "
   ]
  },
  {
   "cell_type": "raw",
   "id": "4c844606",
   "metadata": {},
   "source": []
  },
  {
   "cell_type": "raw",
   "id": "09ae2e9c",
   "metadata": {},
   "source": []
  },
  {
   "cell_type": "markdown",
   "id": "e46414b3",
   "metadata": {},
   "source": [
    "### Обзор данных"
   ]
  },
  {
   "cell_type": "code",
   "execution_count": 209,
   "id": "b3dbc7db",
   "metadata": {},
   "outputs": [],
   "source": [
    "FEATURES_PATH = 'features.csv'\n",
    "TRAIN_DF_PATH = 'data_train.csv'\n",
    "users_data_df_PATH = 'data_test.csv'\n",
    "DATA_TRAIN_FEATURES_PATH = 'data_train_features.csv'\n",
    "DATA_TEST_FEATURES_PATH = 'data_test_features.csv'"
   ]
  },
  {
   "cell_type": "code",
   "execution_count": 210,
   "id": "7372f4f0",
   "metadata": {},
   "outputs": [
    {
     "data": {
      "text/html": [
       "<div>\n",
       "<style scoped>\n",
       "    .dataframe tbody tr th:only-of-type {\n",
       "        vertical-align: middle;\n",
       "    }\n",
       "\n",
       "    .dataframe tbody tr th {\n",
       "        vertical-align: top;\n",
       "    }\n",
       "\n",
       "    .dataframe thead th {\n",
       "        text-align: right;\n",
       "    }\n",
       "</style>\n",
       "<table border=\"1\" class=\"dataframe\">\n",
       "  <thead>\n",
       "    <tr style=\"text-align: right;\">\n",
       "      <th></th>\n",
       "      <th>id</th>\n",
       "      <th>buy_time</th>\n",
       "      <th>0</th>\n",
       "      <th>1</th>\n",
       "      <th>2</th>\n",
       "      <th>3</th>\n",
       "      <th>4</th>\n",
       "      <th>5</th>\n",
       "      <th>6</th>\n",
       "      <th>7</th>\n",
       "      <th>...</th>\n",
       "      <th>243</th>\n",
       "      <th>244</th>\n",
       "      <th>245</th>\n",
       "      <th>246</th>\n",
       "      <th>247</th>\n",
       "      <th>248</th>\n",
       "      <th>249</th>\n",
       "      <th>250</th>\n",
       "      <th>251</th>\n",
       "      <th>252</th>\n",
       "    </tr>\n",
       "  </thead>\n",
       "  <tbody>\n",
       "    <tr>\n",
       "      <th>0</th>\n",
       "      <td>2013026</td>\n",
       "      <td>1531688400</td>\n",
       "      <td>18.910029</td>\n",
       "      <td>46.980888</td>\n",
       "      <td>4.969214</td>\n",
       "      <td>-1.386798</td>\n",
       "      <td>3.791754</td>\n",
       "      <td>-14.01179</td>\n",
       "      <td>-16.08618</td>\n",
       "      <td>-65.076097</td>\n",
       "      <td>...</td>\n",
       "      <td>-977.373846</td>\n",
       "      <td>-613.770792</td>\n",
       "      <td>-25.996269</td>\n",
       "      <td>-37.630448</td>\n",
       "      <td>-301.747724</td>\n",
       "      <td>-25.832889</td>\n",
       "      <td>-0.694428</td>\n",
       "      <td>-12.175933</td>\n",
       "      <td>-0.45614</td>\n",
       "      <td>0.0</td>\n",
       "    </tr>\n",
       "    <tr>\n",
       "      <th>1</th>\n",
       "      <td>2014722</td>\n",
       "      <td>1539550800</td>\n",
       "      <td>36.690029</td>\n",
       "      <td>152.400888</td>\n",
       "      <td>448.069214</td>\n",
       "      <td>563.833202</td>\n",
       "      <td>463.841754</td>\n",
       "      <td>568.99821</td>\n",
       "      <td>-16.08618</td>\n",
       "      <td>-53.216097</td>\n",
       "      <td>...</td>\n",
       "      <td>-891.373846</td>\n",
       "      <td>-544.770792</td>\n",
       "      <td>-20.996269</td>\n",
       "      <td>48.369552</td>\n",
       "      <td>80.252276</td>\n",
       "      <td>-13.832889</td>\n",
       "      <td>-0.694428</td>\n",
       "      <td>-1.175933</td>\n",
       "      <td>-0.45614</td>\n",
       "      <td>0.0</td>\n",
       "    </tr>\n",
       "    <tr>\n",
       "      <th>2</th>\n",
       "      <td>2015199</td>\n",
       "      <td>1545598800</td>\n",
       "      <td>-67.019971</td>\n",
       "      <td>157.050888</td>\n",
       "      <td>-63.180786</td>\n",
       "      <td>178.103202</td>\n",
       "      <td>-68.598246</td>\n",
       "      <td>156.99821</td>\n",
       "      <td>3.51382</td>\n",
       "      <td>25.183903</td>\n",
       "      <td>...</td>\n",
       "      <td>-977.373846</td>\n",
       "      <td>-613.770792</td>\n",
       "      <td>-12.996269</td>\n",
       "      <td>-37.630448</td>\n",
       "      <td>10829.252276</td>\n",
       "      <td>-25.832889</td>\n",
       "      <td>-0.694428</td>\n",
       "      <td>-12.175933</td>\n",
       "      <td>-0.45614</td>\n",
       "      <td>0.0</td>\n",
       "    </tr>\n",
       "    <tr>\n",
       "      <th>3</th>\n",
       "      <td>2021765</td>\n",
       "      <td>1534107600</td>\n",
       "      <td>7.010029</td>\n",
       "      <td>150.200888</td>\n",
       "      <td>-6.930786</td>\n",
       "      <td>216.213202</td>\n",
       "      <td>76.621754</td>\n",
       "      <td>351.84821</td>\n",
       "      <td>-16.08618</td>\n",
       "      <td>-65.076097</td>\n",
       "      <td>...</td>\n",
       "      <td>-973.373846</td>\n",
       "      <td>-613.770792</td>\n",
       "      <td>-23.996269</td>\n",
       "      <td>-37.630448</td>\n",
       "      <td>-205.747724</td>\n",
       "      <td>-24.832889</td>\n",
       "      <td>-0.694428</td>\n",
       "      <td>-11.175933</td>\n",
       "      <td>-0.45614</td>\n",
       "      <td>1.0</td>\n",
       "    </tr>\n",
       "    <tr>\n",
       "      <th>4</th>\n",
       "      <td>2027465</td>\n",
       "      <td>1533502800</td>\n",
       "      <td>-90.439971</td>\n",
       "      <td>134.220888</td>\n",
       "      <td>-104.380786</td>\n",
       "      <td>153.643202</td>\n",
       "      <td>-109.798246</td>\n",
       "      <td>132.53821</td>\n",
       "      <td>-16.08618</td>\n",
       "      <td>-65.076097</td>\n",
       "      <td>...</td>\n",
       "      <td>1643.626154</td>\n",
       "      <td>2007.229208</td>\n",
       "      <td>206.003731</td>\n",
       "      <td>-21.630448</td>\n",
       "      <td>6667.252276</td>\n",
       "      <td>92.167111</td>\n",
       "      <td>-0.694428</td>\n",
       "      <td>49.824067</td>\n",
       "      <td>47.54386</td>\n",
       "      <td>0.0</td>\n",
       "    </tr>\n",
       "  </tbody>\n",
       "</table>\n",
       "<p>5 rows × 255 columns</p>\n",
       "</div>"
      ],
      "text/plain": [
       "        id    buy_time          0           1           2           3  \\\n",
       "0  2013026  1531688400  18.910029   46.980888    4.969214   -1.386798   \n",
       "1  2014722  1539550800  36.690029  152.400888  448.069214  563.833202   \n",
       "2  2015199  1545598800 -67.019971  157.050888  -63.180786  178.103202   \n",
       "3  2021765  1534107600   7.010029  150.200888   -6.930786  216.213202   \n",
       "4  2027465  1533502800 -90.439971  134.220888 -104.380786  153.643202   \n",
       "\n",
       "            4          5         6          7  ...          243          244  \\\n",
       "0    3.791754  -14.01179 -16.08618 -65.076097  ...  -977.373846  -613.770792   \n",
       "1  463.841754  568.99821 -16.08618 -53.216097  ...  -891.373846  -544.770792   \n",
       "2  -68.598246  156.99821   3.51382  25.183903  ...  -977.373846  -613.770792   \n",
       "3   76.621754  351.84821 -16.08618 -65.076097  ...  -973.373846  -613.770792   \n",
       "4 -109.798246  132.53821 -16.08618 -65.076097  ...  1643.626154  2007.229208   \n",
       "\n",
       "          245        246           247        248       249        250  \\\n",
       "0  -25.996269 -37.630448   -301.747724 -25.832889 -0.694428 -12.175933   \n",
       "1  -20.996269  48.369552     80.252276 -13.832889 -0.694428  -1.175933   \n",
       "2  -12.996269 -37.630448  10829.252276 -25.832889 -0.694428 -12.175933   \n",
       "3  -23.996269 -37.630448   -205.747724 -24.832889 -0.694428 -11.175933   \n",
       "4  206.003731 -21.630448   6667.252276  92.167111 -0.694428  49.824067   \n",
       "\n",
       "        251  252  \n",
       "0  -0.45614  0.0  \n",
       "1  -0.45614  0.0  \n",
       "2  -0.45614  0.0  \n",
       "3  -0.45614  1.0  \n",
       "4  47.54386  0.0  \n",
       "\n",
       "[5 rows x 255 columns]"
      ]
     },
     "execution_count": 210,
     "metadata": {},
     "output_type": "execute_result"
    }
   ],
   "source": [
    "features_df = dd.read_csv(FEATURES_PATH, sep=\"\\t\")\n",
    "features_df = features_df.drop('Unnamed: 0', axis=1)\n",
    "features_df.head()"
   ]
  },
  {
   "cell_type": "code",
   "execution_count": 211,
   "id": "39bff52f",
   "metadata": {},
   "outputs": [
    {
     "data": {
      "text/html": [
       "<div>\n",
       "<style scoped>\n",
       "    .dataframe tbody tr th:only-of-type {\n",
       "        vertical-align: middle;\n",
       "    }\n",
       "\n",
       "    .dataframe tbody tr th {\n",
       "        vertical-align: top;\n",
       "    }\n",
       "\n",
       "    .dataframe thead th {\n",
       "        text-align: right;\n",
       "    }\n",
       "</style>\n",
       "<table border=\"1\" class=\"dataframe\">\n",
       "  <thead>\n",
       "    <tr style=\"text-align: right;\">\n",
       "      <th></th>\n",
       "      <th>id</th>\n",
       "      <th>buy_time</th>\n",
       "      <th>0</th>\n",
       "      <th>1</th>\n",
       "      <th>2</th>\n",
       "      <th>3</th>\n",
       "      <th>4</th>\n",
       "      <th>5</th>\n",
       "      <th>6</th>\n",
       "      <th>7</th>\n",
       "      <th>...</th>\n",
       "      <th>243</th>\n",
       "      <th>244</th>\n",
       "      <th>245</th>\n",
       "      <th>246</th>\n",
       "      <th>247</th>\n",
       "      <th>248</th>\n",
       "      <th>249</th>\n",
       "      <th>250</th>\n",
       "      <th>251</th>\n",
       "      <th>252</th>\n",
       "    </tr>\n",
       "  </thead>\n",
       "  <tbody>\n",
       "    <tr>\n",
       "      <th>12423</th>\n",
       "      <td>3521417</td>\n",
       "      <td>1548018000</td>\n",
       "      <td>-96.799971</td>\n",
       "      <td>-29.579112</td>\n",
       "      <td>-94.900786</td>\n",
       "      <td>-40.506798</td>\n",
       "      <td>-100.318246</td>\n",
       "      <td>-61.61179</td>\n",
       "      <td>-16.08618</td>\n",
       "      <td>-65.076097</td>\n",
       "      <td>...</td>\n",
       "      <td>1133.626154</td>\n",
       "      <td>1497.229208</td>\n",
       "      <td>-25.996269</td>\n",
       "      <td>-36.630448</td>\n",
       "      <td>-126.747724</td>\n",
       "      <td>-25.832889</td>\n",
       "      <td>-0.694428</td>\n",
       "      <td>-12.175933</td>\n",
       "      <td>-0.45614</td>\n",
       "      <td>0.0</td>\n",
       "    </tr>\n",
       "    <tr>\n",
       "      <th>12424</th>\n",
       "      <td>3521563</td>\n",
       "      <td>1547413200</td>\n",
       "      <td>30.530029</td>\n",
       "      <td>-150.929112</td>\n",
       "      <td>16.589214</td>\n",
       "      <td>-34.046798</td>\n",
       "      <td>11.171754</td>\n",
       "      <td>-55.15179</td>\n",
       "      <td>-16.08618</td>\n",
       "      <td>-65.076097</td>\n",
       "      <td>...</td>\n",
       "      <td>-680.373846</td>\n",
       "      <td>-316.770792</td>\n",
       "      <td>-25.996269</td>\n",
       "      <td>-35.630448</td>\n",
       "      <td>-296.747724</td>\n",
       "      <td>-25.832889</td>\n",
       "      <td>-0.694428</td>\n",
       "      <td>-12.175933</td>\n",
       "      <td>-0.45614</td>\n",
       "      <td>0.0</td>\n",
       "    </tr>\n",
       "    <tr>\n",
       "      <th>12425</th>\n",
       "      <td>3521574</td>\n",
       "      <td>1546808400</td>\n",
       "      <td>-96.799971</td>\n",
       "      <td>-396.439112</td>\n",
       "      <td>-110.740786</td>\n",
       "      <td>-447.776798</td>\n",
       "      <td>-116.158246</td>\n",
       "      <td>-468.88179</td>\n",
       "      <td>-16.08618</td>\n",
       "      <td>-65.076097</td>\n",
       "      <td>...</td>\n",
       "      <td>-977.373846</td>\n",
       "      <td>-613.770792</td>\n",
       "      <td>-25.996269</td>\n",
       "      <td>-37.630448</td>\n",
       "      <td>-306.747724</td>\n",
       "      <td>-25.832889</td>\n",
       "      <td>-0.694428</td>\n",
       "      <td>-12.175933</td>\n",
       "      <td>-0.45614</td>\n",
       "      <td>0.0</td>\n",
       "    </tr>\n",
       "    <tr>\n",
       "      <th>12426</th>\n",
       "      <td>3521640</td>\n",
       "      <td>1547413200</td>\n",
       "      <td>38.030029</td>\n",
       "      <td>-152.519112</td>\n",
       "      <td>24.089214</td>\n",
       "      <td>-175.956798</td>\n",
       "      <td>18.671754</td>\n",
       "      <td>-197.06179</td>\n",
       "      <td>-16.08618</td>\n",
       "      <td>-65.076097</td>\n",
       "      <td>...</td>\n",
       "      <td>2242.626154</td>\n",
       "      <td>2528.229208</td>\n",
       "      <td>-25.996269</td>\n",
       "      <td>90.369552</td>\n",
       "      <td>-26.747724</td>\n",
       "      <td>-18.832889</td>\n",
       "      <td>-0.694428</td>\n",
       "      <td>-12.175933</td>\n",
       "      <td>0.54386</td>\n",
       "      <td>0.0</td>\n",
       "    </tr>\n",
       "    <tr>\n",
       "      <th>12427</th>\n",
       "      <td>3521702</td>\n",
       "      <td>1548018000</td>\n",
       "      <td>9.780029</td>\n",
       "      <td>-145.769112</td>\n",
       "      <td>-4.160786</td>\n",
       "      <td>-198.376798</td>\n",
       "      <td>-9.578246</td>\n",
       "      <td>-219.48179</td>\n",
       "      <td>-16.08618</td>\n",
       "      <td>-65.076097</td>\n",
       "      <td>...</td>\n",
       "      <td>-975.373846</td>\n",
       "      <td>-612.770792</td>\n",
       "      <td>-25.996269</td>\n",
       "      <td>-35.630448</td>\n",
       "      <td>-288.747724</td>\n",
       "      <td>-20.832889</td>\n",
       "      <td>-0.694428</td>\n",
       "      <td>-12.175933</td>\n",
       "      <td>-0.45614</td>\n",
       "      <td>0.0</td>\n",
       "    </tr>\n",
       "  </tbody>\n",
       "</table>\n",
       "<p>5 rows × 255 columns</p>\n",
       "</div>"
      ],
      "text/plain": [
       "            id    buy_time          0           1           2           3  \\\n",
       "12423  3521417  1548018000 -96.799971  -29.579112  -94.900786  -40.506798   \n",
       "12424  3521563  1547413200  30.530029 -150.929112   16.589214  -34.046798   \n",
       "12425  3521574  1546808400 -96.799971 -396.439112 -110.740786 -447.776798   \n",
       "12426  3521640  1547413200  38.030029 -152.519112   24.089214 -175.956798   \n",
       "12427  3521702  1548018000   9.780029 -145.769112   -4.160786 -198.376798   \n",
       "\n",
       "                4          5         6          7  ...          243  \\\n",
       "12423 -100.318246  -61.61179 -16.08618 -65.076097  ...  1133.626154   \n",
       "12424   11.171754  -55.15179 -16.08618 -65.076097  ...  -680.373846   \n",
       "12425 -116.158246 -468.88179 -16.08618 -65.076097  ...  -977.373846   \n",
       "12426   18.671754 -197.06179 -16.08618 -65.076097  ...  2242.626154   \n",
       "12427   -9.578246 -219.48179 -16.08618 -65.076097  ...  -975.373846   \n",
       "\n",
       "               244        245        246         247        248       249  \\\n",
       "12423  1497.229208 -25.996269 -36.630448 -126.747724 -25.832889 -0.694428   \n",
       "12424  -316.770792 -25.996269 -35.630448 -296.747724 -25.832889 -0.694428   \n",
       "12425  -613.770792 -25.996269 -37.630448 -306.747724 -25.832889 -0.694428   \n",
       "12426  2528.229208 -25.996269  90.369552  -26.747724 -18.832889 -0.694428   \n",
       "12427  -612.770792 -25.996269 -35.630448 -288.747724 -20.832889 -0.694428   \n",
       "\n",
       "             250      251  252  \n",
       "12423 -12.175933 -0.45614  0.0  \n",
       "12424 -12.175933 -0.45614  0.0  \n",
       "12425 -12.175933 -0.45614  0.0  \n",
       "12426 -12.175933  0.54386  0.0  \n",
       "12427 -12.175933 -0.45614  0.0  \n",
       "\n",
       "[5 rows x 255 columns]"
      ]
     },
     "execution_count": 211,
     "metadata": {},
     "output_type": "execute_result"
    }
   ],
   "source": [
    "features_df.tail()"
   ]
  },
  {
   "cell_type": "code",
   "execution_count": 212,
   "id": "932385c3",
   "metadata": {},
   "outputs": [],
   "source": [
    "train_df = pd.read_csv(TRAIN_DF_PATH)\n",
    "train_df = train_df.drop('Unnamed: 0', axis=1) # отсеяны данные по отсутствующим абонентам"
   ]
  },
  {
   "cell_type": "code",
   "execution_count": 213,
   "id": "61731f16",
   "metadata": {},
   "outputs": [],
   "source": [
    "train_df = pd.read_csv(TRAIN_DF_PATH)\n",
    "train_df = train_df.drop('Unnamed: 0', axis=1) # отсеяны данные по отсутстаующим абонентам"
   ]
  },
  {
   "cell_type": "markdown",
   "id": "585a0188",
   "metadata": {},
   "source": [
    "##### Переведём данные к удобному формату с помощью модуля datetime"
   ]
  },
  {
   "cell_type": "code",
   "execution_count": 214,
   "id": "4fb2669e",
   "metadata": {},
   "outputs": [],
   "source": [
    "train_df['date'] =  train_df['buy_time'].apply(lambda x: date.fromtimestamp(x))"
   ]
  },
  {
   "cell_type": "code",
   "execution_count": 215,
   "id": "a4afc9a8",
   "metadata": {},
   "outputs": [
    {
     "name": "stdout",
     "output_type": "stream",
     "text": [
      "min: 2018-07-09 | max: 2018-12-31\n"
     ]
    }
   ],
   "source": [
    "print(f\"min: {train_df['date'].min()} | max: {train_df['date'].max()}\")"
   ]
  },
  {
   "cell_type": "code",
   "execution_count": 216,
   "id": "7dab4b13",
   "metadata": {},
   "outputs": [
    {
     "data": {
      "text/plain": [
       "1.0    304511\n",
       "2.0    244708\n",
       "4.0     63991\n",
       "5.0     92393\n",
       "6.0     33174\n",
       "7.0     15219\n",
       "8.0     13003\n",
       "9.0      4468\n",
       "Name: vas_id, dtype: int64"
      ]
     },
     "execution_count": 216,
     "metadata": {},
     "output_type": "execute_result"
    }
   ],
   "source": [
    "data_nole = train_df.loc[(train_df['target']==0, 'vas_id') ].value_counts().sort_index()\n",
    "data_nole"
   ]
  },
  {
   "cell_type": "code",
   "execution_count": 217,
   "id": "b64c2016",
   "metadata": {},
   "outputs": [
    {
     "data": {
      "text/plain": [
       "[1.0, 2.0, 4.0, 5.0, 6.0, 7.0, 8.0, 9.0]"
      ]
     },
     "execution_count": 217,
     "metadata": {},
     "output_type": "execute_result"
    }
   ],
   "source": [
    "list(data_nole.index)"
   ]
  },
  {
   "cell_type": "code",
   "execution_count": 218,
   "id": "427d7364",
   "metadata": {},
   "outputs": [
    {
     "data": {
      "text/plain": [
       "array([304511, 244708,  63991,  92393,  33174,  15219,  13003,   4468],\n",
       "      dtype=int64)"
      ]
     },
     "execution_count": 218,
     "metadata": {},
     "output_type": "execute_result"
    }
   ],
   "source": [
    "np.asarray(data_nole)"
   ]
  },
  {
   "cell_type": "code",
   "execution_count": 219,
   "id": "8279e05e",
   "metadata": {},
   "outputs": [
    {
     "data": {
      "text/plain": [
       "1.0     5664\n",
       "2.0     4797\n",
       "4.0    21765\n",
       "5.0     1692\n",
       "6.0    24704\n",
       "7.0      213\n",
       "8.0      347\n",
       "9.0     1004\n",
       "Name: vas_id, dtype: int64"
      ]
     },
     "execution_count": 219,
     "metadata": {},
     "output_type": "execute_result"
    }
   ],
   "source": [
    "data_one = train_df.loc[(train_df['target']==1, 'vas_id') ].value_counts().sort_index()\n",
    "data_one"
   ]
  },
  {
   "cell_type": "code",
   "execution_count": 220,
   "id": "17e18c73",
   "metadata": {},
   "outputs": [
    {
     "data": {
      "text/plain": [
       "array([ 5664,  4797, 21765,  1692, 24704,   213,   347,  1004],\n",
       "      dtype=int64)"
      ]
     },
     "execution_count": 220,
     "metadata": {},
     "output_type": "execute_result"
    }
   ],
   "source": [
    "np.asarray(data_one)"
   ]
  },
  {
   "cell_type": "markdown",
   "id": "fea71270",
   "metadata": {},
   "source": [
    "vas_id-код услуги\n",
    "0-отклонение предложения\n",
    "1-принятие предложения"
   ]
  },
  {
   "cell_type": "code",
   "execution_count": 221,
   "id": "a2cc4262",
   "metadata": {},
   "outputs": [
    {
     "data": {
      "text/plain": [
       "array([ 5664,  4797, 21765,  1692, 24704,   213,   347,  1004],\n",
       "      dtype=int64)"
      ]
     },
     "execution_count": 221,
     "metadata": {},
     "output_type": "execute_result"
    }
   ],
   "source": [
    "data_values = np.asarray(data_one)\n",
    "data_values"
   ]
  },
  {
   "cell_type": "code",
   "execution_count": 222,
   "id": "d8e56f59",
   "metadata": {},
   "outputs": [
    {
     "data": {
      "text/plain": [
       "{'vas_id': [1.0, 2.0, 4.0, 5.0, 6.0, 7.0, 8.0, 9.0],\n",
       " '0': [304511, 244708, 63991, 92393, 33174, 15219, 13003, 4468],\n",
       " '1': [5664, 4797, 21765, 1692, 24704, 213, 347, 1004]}"
      ]
     },
     "execution_count": 222,
     "metadata": {},
     "output_type": "execute_result"
    }
   ],
   "source": [
    "data_new = {'vas_id': list(data_nole.index), '0': list(np.asarray(data_nole)), '1': list(np.asarray(data_one))}\n",
    "data_new"
   ]
  },
  {
   "cell_type": "code",
   "execution_count": 223,
   "id": "4d6dc9ea",
   "metadata": {},
   "outputs": [],
   "source": [
    "data_new['vas_id'] = (list(data_nole.index))"
   ]
  },
  {
   "cell_type": "code",
   "execution_count": 224,
   "id": "cd205978",
   "metadata": {},
   "outputs": [],
   "source": [
    "data_new['0'] = (list(data_nole.values))"
   ]
  },
  {
   "cell_type": "code",
   "execution_count": 225,
   "id": "0bf9db23",
   "metadata": {},
   "outputs": [],
   "source": [
    "data_new['1'] = (list(data_one.values))"
   ]
  },
  {
   "cell_type": "markdown",
   "id": "17a10342",
   "metadata": {},
   "source": [
    "##### Объединение таблиц по id пользователей"
   ]
  },
  {
   "cell_type": "code",
   "execution_count": 226,
   "id": "d5b1e72c",
   "metadata": {},
   "outputs": [
    {
     "data": {
      "text/html": [
       "<div>\n",
       "<style scoped>\n",
       "    .dataframe tbody tr th:only-of-type {\n",
       "        vertical-align: middle;\n",
       "    }\n",
       "\n",
       "    .dataframe tbody tr th {\n",
       "        vertical-align: top;\n",
       "    }\n",
       "\n",
       "    .dataframe thead th {\n",
       "        text-align: right;\n",
       "    }\n",
       "</style>\n",
       "<table border=\"1\" class=\"dataframe\">\n",
       "  <thead>\n",
       "    <tr style=\"text-align: right;\">\n",
       "      <th></th>\n",
       "      <th>vas_id</th>\n",
       "      <th>0</th>\n",
       "      <th>1</th>\n",
       "    </tr>\n",
       "  </thead>\n",
       "  <tbody>\n",
       "    <tr>\n",
       "      <th>0</th>\n",
       "      <td>1.0</td>\n",
       "      <td>304511</td>\n",
       "      <td>5664</td>\n",
       "    </tr>\n",
       "    <tr>\n",
       "      <th>1</th>\n",
       "      <td>2.0</td>\n",
       "      <td>244708</td>\n",
       "      <td>4797</td>\n",
       "    </tr>\n",
       "    <tr>\n",
       "      <th>2</th>\n",
       "      <td>4.0</td>\n",
       "      <td>63991</td>\n",
       "      <td>21765</td>\n",
       "    </tr>\n",
       "    <tr>\n",
       "      <th>3</th>\n",
       "      <td>5.0</td>\n",
       "      <td>92393</td>\n",
       "      <td>1692</td>\n",
       "    </tr>\n",
       "    <tr>\n",
       "      <th>4</th>\n",
       "      <td>6.0</td>\n",
       "      <td>33174</td>\n",
       "      <td>24704</td>\n",
       "    </tr>\n",
       "    <tr>\n",
       "      <th>5</th>\n",
       "      <td>7.0</td>\n",
       "      <td>15219</td>\n",
       "      <td>213</td>\n",
       "    </tr>\n",
       "    <tr>\n",
       "      <th>6</th>\n",
       "      <td>8.0</td>\n",
       "      <td>13003</td>\n",
       "      <td>347</td>\n",
       "    </tr>\n",
       "    <tr>\n",
       "      <th>7</th>\n",
       "      <td>9.0</td>\n",
       "      <td>4468</td>\n",
       "      <td>1004</td>\n",
       "    </tr>\n",
       "  </tbody>\n",
       "</table>\n",
       "</div>"
      ],
      "text/plain": [
       "   vas_id       0      1\n",
       "0     1.0  304511   5664\n",
       "1     2.0  244708   4797\n",
       "2     4.0   63991  21765\n",
       "3     5.0   92393   1692\n",
       "4     6.0   33174  24704\n",
       "5     7.0   15219    213\n",
       "6     8.0   13003    347\n",
       "7     9.0    4468   1004"
      ]
     },
     "execution_count": 226,
     "metadata": {},
     "output_type": "execute_result"
    }
   ],
   "source": [
    "pd.DataFrame(data_new)"
   ]
  },
  {
   "cell_type": "markdown",
   "id": "6f26db57",
   "metadata": {},
   "source": [
    "##### Из таблицы видно,что наиболее популярны услуги 4 и 6.Их абсолютные значения выделяются на фоне остальных"
   ]
  },
  {
   "cell_type": "code",
   "execution_count": 227,
   "id": "5ad42d15",
   "metadata": {},
   "outputs": [
    {
     "data": {
      "text/html": [
       "<div>\n",
       "<style scoped>\n",
       "    .dataframe tbody tr th:only-of-type {\n",
       "        vertical-align: middle;\n",
       "    }\n",
       "\n",
       "    .dataframe tbody tr th {\n",
       "        vertical-align: top;\n",
       "    }\n",
       "\n",
       "    .dataframe thead th {\n",
       "        text-align: right;\n",
       "    }\n",
       "</style>\n",
       "<table border=\"1\" class=\"dataframe\">\n",
       "  <thead>\n",
       "    <tr style=\"text-align: right;\">\n",
       "      <th></th>\n",
       "      <th>id</th>\n",
       "      <th>vas_id</th>\n",
       "      <th>buy_time</th>\n",
       "      <th>target</th>\n",
       "      <th>date</th>\n",
       "    </tr>\n",
       "  </thead>\n",
       "  <tbody>\n",
       "    <tr>\n",
       "      <th>831648</th>\n",
       "      <td>3812226</td>\n",
       "      <td>2.0</td>\n",
       "      <td>1546203600</td>\n",
       "      <td>0.0</td>\n",
       "      <td>2018-12-31</td>\n",
       "    </tr>\n",
       "    <tr>\n",
       "      <th>831649</th>\n",
       "      <td>2480469</td>\n",
       "      <td>2.0</td>\n",
       "      <td>1546203600</td>\n",
       "      <td>0.0</td>\n",
       "      <td>2018-12-31</td>\n",
       "    </tr>\n",
       "    <tr>\n",
       "      <th>831650</th>\n",
       "      <td>158236</td>\n",
       "      <td>2.0</td>\n",
       "      <td>1546203600</td>\n",
       "      <td>0.0</td>\n",
       "      <td>2018-12-31</td>\n",
       "    </tr>\n",
       "    <tr>\n",
       "      <th>831651</th>\n",
       "      <td>1825525</td>\n",
       "      <td>2.0</td>\n",
       "      <td>1546203600</td>\n",
       "      <td>0.0</td>\n",
       "      <td>2018-12-31</td>\n",
       "    </tr>\n",
       "    <tr>\n",
       "      <th>831652</th>\n",
       "      <td>3022610</td>\n",
       "      <td>2.0</td>\n",
       "      <td>1546203600</td>\n",
       "      <td>0.0</td>\n",
       "      <td>2018-12-31</td>\n",
       "    </tr>\n",
       "  </tbody>\n",
       "</table>\n",
       "</div>"
      ],
      "text/plain": [
       "             id  vas_id    buy_time  target        date\n",
       "831648  3812226     2.0  1546203600     0.0  2018-12-31\n",
       "831649  2480469     2.0  1546203600     0.0  2018-12-31\n",
       "831650   158236     2.0  1546203600     0.0  2018-12-31\n",
       "831651  1825525     2.0  1546203600     0.0  2018-12-31\n",
       "831652  3022610     2.0  1546203600     0.0  2018-12-31"
      ]
     },
     "execution_count": 227,
     "metadata": {},
     "output_type": "execute_result"
    }
   ],
   "source": [
    "train_df.tail()"
   ]
  },
  {
   "cell_type": "code",
   "execution_count": 228,
   "id": "acbccfa3",
   "metadata": {},
   "outputs": [
    {
     "data": {
      "text/html": [
       "<div>\n",
       "<style scoped>\n",
       "    .dataframe tbody tr th:only-of-type {\n",
       "        vertical-align: middle;\n",
       "    }\n",
       "\n",
       "    .dataframe tbody tr th {\n",
       "        vertical-align: top;\n",
       "    }\n",
       "\n",
       "    .dataframe thead th {\n",
       "        text-align: right;\n",
       "    }\n",
       "</style>\n",
       "<table border=\"1\" class=\"dataframe\">\n",
       "  <thead>\n",
       "    <tr style=\"text-align: right;\">\n",
       "      <th></th>\n",
       "      <th>id</th>\n",
       "      <th>vas_id</th>\n",
       "      <th>buy_time</th>\n",
       "      <th>target</th>\n",
       "      <th>date</th>\n",
       "    </tr>\n",
       "  </thead>\n",
       "  <tbody>\n",
       "    <tr>\n",
       "      <th>0</th>\n",
       "      <td>540968</td>\n",
       "      <td>8.0</td>\n",
       "      <td>1537131600</td>\n",
       "      <td>0.0</td>\n",
       "      <td>2018-09-17</td>\n",
       "    </tr>\n",
       "    <tr>\n",
       "      <th>1</th>\n",
       "      <td>1454121</td>\n",
       "      <td>4.0</td>\n",
       "      <td>1531688400</td>\n",
       "      <td>0.0</td>\n",
       "      <td>2018-07-16</td>\n",
       "    </tr>\n",
       "    <tr>\n",
       "      <th>2</th>\n",
       "      <td>2458816</td>\n",
       "      <td>1.0</td>\n",
       "      <td>1534107600</td>\n",
       "      <td>0.0</td>\n",
       "      <td>2018-08-13</td>\n",
       "    </tr>\n",
       "    <tr>\n",
       "      <th>3</th>\n",
       "      <td>3535012</td>\n",
       "      <td>5.0</td>\n",
       "      <td>1535922000</td>\n",
       "      <td>0.0</td>\n",
       "      <td>2018-09-03</td>\n",
       "    </tr>\n",
       "    <tr>\n",
       "      <th>4</th>\n",
       "      <td>1693214</td>\n",
       "      <td>1.0</td>\n",
       "      <td>1535922000</td>\n",
       "      <td>0.0</td>\n",
       "      <td>2018-09-03</td>\n",
       "    </tr>\n",
       "  </tbody>\n",
       "</table>\n",
       "</div>"
      ],
      "text/plain": [
       "        id  vas_id    buy_time  target        date\n",
       "0   540968     8.0  1537131600     0.0  2018-09-17\n",
       "1  1454121     4.0  1531688400     0.0  2018-07-16\n",
       "2  2458816     1.0  1534107600     0.0  2018-08-13\n",
       "3  3535012     5.0  1535922000     0.0  2018-09-03\n",
       "4  1693214     1.0  1535922000     0.0  2018-09-03"
      ]
     },
     "execution_count": 228,
     "metadata": {},
     "output_type": "execute_result"
    }
   ],
   "source": [
    "train_df.head()"
   ]
  },
  {
   "cell_type": "code",
   "execution_count": 229,
   "id": "e7d27e73",
   "metadata": {},
   "outputs": [
    {
     "data": {
      "text/plain": [
       "17679      3\n",
       "2072755    3\n",
       "1532983    3\n",
       "148271     3\n",
       "1243361    3\n",
       "          ..\n",
       "2698463    1\n",
       "2696414    1\n",
       "2196004    1\n",
       "738450     1\n",
       "2101246    1\n",
       "Name: id, Length: 806613, dtype: int64"
      ]
     },
     "execution_count": 229,
     "metadata": {},
     "output_type": "execute_result"
    }
   ],
   "source": [
    "train_df['id'].value_counts().sort_values(ascending=False)"
   ]
  },
  {
   "cell_type": "markdown",
   "id": "65a5329b",
   "metadata": {},
   "source": [
    "##### Из сортировки видно,что некоторым пользователям делались предложения по 2-3 раза."
   ]
  },
  {
   "cell_type": "markdown",
   "id": "922e0543",
   "metadata": {},
   "source": [
    "##### При этом,831652-806613=25039 пользователей не охвачены вниманием."
   ]
  },
  {
   "cell_type": "markdown",
   "id": "601559a8",
   "metadata": {},
   "source": [
    "### Построение динамики предложений"
   ]
  },
  {
   "cell_type": "code",
   "execution_count": 162,
   "id": "19f9af66",
   "metadata": {},
   "outputs": [
    {
     "data": {
      "image/png": "[encoded data removed]",
      "text/plain": [
       "<Figure size 1440x720 with 1 Axes>"
      ]
     },
     "metadata": {
      "needs_background": "light"
     },
     "output_type": "display_data"
    }
   ],
   "source": [
    "plt.figure(figsize=(20,10))\n",
    "plt.hist(train_df.loc[(train_df['target']==0, 'date') ], bins=50, rwidth=5, stacked=False)\n",
    "plt.hist(train_df.loc[(train_df['target']==1, 'date') ], bins=50, rwidth=5, stacked=False, alpha=0.5)\n",
    "plt.show()"
   ]
  },
  {
   "cell_type": "markdown",
   "id": "ba9b0b19",
   "metadata": {},
   "source": [
    "##### Виден аномальный скачок предложений в конце ноября и перед новым годом(акционный период)."
   ]
  },
  {
   "cell_type": "code",
   "execution_count": 59,
   "id": "99c9da12",
   "metadata": {},
   "outputs": [
    {
     "data": {
      "image/png": "[encoded data removed]",
      "text/plain": [
       "<Figure size 1440x720 with 1 Axes>"
      ]
     },
     "metadata": {
      "needs_background": "light"
     },
     "output_type": "display_data"
    }
   ],
   "source": [
    "plt.figure(figsize=(20,10))\n",
    "plt.plot(train_df.loc[(train_df['vas_id']==1.0, 'date') ].value_counts().sort_index(),label='1')\n",
    "plt.plot(train_df.loc[(train_df['vas_id']==2.0, 'date') ].value_counts().sort_index(),label='2')\n",
    "plt.plot(train_df.loc[(train_df['vas_id']==3.0, 'date') ].value_counts().sort_index(),label='3')\n",
    "plt.plot(train_df.loc[(train_df['vas_id']==5.0, 'date') ].value_counts().sort_index(),label='5')\n",
    "plt.plot(train_df.loc[(train_df['vas_id']==6.0, 'date') ].value_counts().sort_index(),label='6')\n",
    "plt.plot(train_df.loc[(train_df['vas_id']==7.0, 'date') ].value_counts().sort_index(),label='7')\n",
    "plt.plot(train_df.loc[(train_df['vas_id']==8.0, 'date') ].value_counts().sort_index(),label='8')\n",
    "plt.plot(train_df.loc[(train_df['vas_id']==9.0, 'date') ].value_counts().sort_index(),label='9')\n",
    "plt.hist(train_df.loc[(train_df['target']==1, 'date') ], bins=50, rwidth=5, stacked=False, alpha=0.5)\n",
    "plt.legend()\n",
    "plt.show()"
   ]
  },
  {
   "cell_type": "markdown",
   "id": "47e0652b",
   "metadata": {},
   "source": [
    "##### То же самое мы наблюдаем по графикам.Скачки предложений в конце ноября и перед новым годом.И два пика покупок."
   ]
  },
  {
   "cell_type": "markdown",
   "id": "b3113cd4",
   "metadata": {},
   "source": [
    "##### Предложения в ноябре не оправдались,зато в декабре акция дала результат"
   ]
  },
  {
   "cell_type": "code",
   "execution_count": 60,
   "id": "9538f678",
   "metadata": {},
   "outputs": [
    {
     "data": {
      "image/png": "[encoded data removed]",
      "text/plain": [
       "<Figure size 1440x720 with 1 Axes>"
      ]
     },
     "metadata": {
      "needs_background": "light"
     },
     "output_type": "display_data"
    }
   ],
   "source": [
    "plt.figure(figsize=(20,10))\n",
    "plt.plot(train_df.loc[((train_df['vas_id']==1.0) & (train_df['target']==1), 'date') ].value_counts().sort_index(),label='1')\n",
    "plt.plot(train_df.loc[((train_df['vas_id']==2.0) & (train_df['target']==1), 'date') ].value_counts().sort_index(),label='2')\n",
    "plt.plot(train_df.loc[((train_df['vas_id']==3.0) & (train_df['target']==1), 'date') ].value_counts().sort_index(),label='4')\n",
    "plt.plot(train_df.loc[((train_df['vas_id']==5.0) & (train_df['target']==1), 'date') ].value_counts().sort_index(),label='5')\n",
    "plt.plot(train_df.loc[((train_df['vas_id']==6.0) & (train_df['target']==1), 'date') ].value_counts().sort_index(),label='6')\n",
    "plt.plot(train_df.loc[((train_df['vas_id']==7.0) & (train_df['target']==1), 'date') ].value_counts().sort_index(),label='7')\n",
    "plt.plot(train_df.loc[((train_df['vas_id']==8.0) & (train_df['target']==1), 'date') ].value_counts().sort_index(),label='8')\n",
    "plt.plot(train_df.loc[((train_df['vas_id']==9.0) & (train_df['target']==1), 'date') ].value_counts().sort_index(),label='9')\n",
    "plt.hist(train_df.loc[(train_df['target']==1, 'date') ], bins=50, rwidth=5, stacked=False, alpha=0.5)\n",
    "plt.legend()\n",
    "plt.show()"
   ]
  },
  {
   "cell_type": "markdown",
   "id": "5861c3c5",
   "metadata": {},
   "source": [
    "##### Здесь мы видим количество подключений услуг.В ноябре услуги 4 и 6 в лидерах,в декабре--услуга 6"
   ]
  },
  {
   "cell_type": "code",
   "execution_count": 230,
   "id": "8dce46ef",
   "metadata": {},
   "outputs": [
    {
     "data": {
      "text/plain": [
       "1.0     5664\n",
       "2.0     4797\n",
       "4.0    21765\n",
       "5.0     1692\n",
       "6.0    24704\n",
       "7.0      213\n",
       "8.0      347\n",
       "9.0     1004\n",
       "Name: vas_id, dtype: int64"
      ]
     },
     "execution_count": 230,
     "metadata": {},
     "output_type": "execute_result"
    }
   ],
   "source": [
    "train_df.loc[(train_df['target']==1, 'vas_id') ].value_counts().sort_index()"
   ]
  },
  {
   "cell_type": "code",
   "execution_count": 231,
   "id": "67ca01e8",
   "metadata": {},
   "outputs": [
    {
     "data": {
      "text/html": [
       "<div>\n",
       "<style scoped>\n",
       "    .dataframe tbody tr th:only-of-type {\n",
       "        vertical-align: middle;\n",
       "    }\n",
       "\n",
       "    .dataframe tbody tr th {\n",
       "        vertical-align: top;\n",
       "    }\n",
       "\n",
       "    .dataframe thead th {\n",
       "        text-align: right;\n",
       "    }\n",
       "</style>\n",
       "<table border=\"1\" class=\"dataframe\">\n",
       "  <thead>\n",
       "    <tr style=\"text-align: right;\">\n",
       "      <th></th>\n",
       "      <th>vas_id</th>\n",
       "      <th>0</th>\n",
       "      <th>1</th>\n",
       "    </tr>\n",
       "  </thead>\n",
       "  <tbody>\n",
       "    <tr>\n",
       "      <th>0</th>\n",
       "      <td>1.0</td>\n",
       "      <td>0.982</td>\n",
       "      <td>0.018</td>\n",
       "    </tr>\n",
       "    <tr>\n",
       "      <th>1</th>\n",
       "      <td>2.0</td>\n",
       "      <td>0.981</td>\n",
       "      <td>0.019</td>\n",
       "    </tr>\n",
       "    <tr>\n",
       "      <th>2</th>\n",
       "      <td>4.0</td>\n",
       "      <td>0.746</td>\n",
       "      <td>0.254</td>\n",
       "    </tr>\n",
       "    <tr>\n",
       "      <th>3</th>\n",
       "      <td>5.0</td>\n",
       "      <td>0.982</td>\n",
       "      <td>0.018</td>\n",
       "    </tr>\n",
       "    <tr>\n",
       "      <th>4</th>\n",
       "      <td>6.0</td>\n",
       "      <td>0.573</td>\n",
       "      <td>0.427</td>\n",
       "    </tr>\n",
       "    <tr>\n",
       "      <th>5</th>\n",
       "      <td>7.0</td>\n",
       "      <td>0.986</td>\n",
       "      <td>0.014</td>\n",
       "    </tr>\n",
       "    <tr>\n",
       "      <th>6</th>\n",
       "      <td>8.0</td>\n",
       "      <td>0.974</td>\n",
       "      <td>0.026</td>\n",
       "    </tr>\n",
       "    <tr>\n",
       "      <th>7</th>\n",
       "      <td>9.0</td>\n",
       "      <td>0.817</td>\n",
       "      <td>0.183</td>\n",
       "    </tr>\n",
       "  </tbody>\n",
       "</table>\n",
       "</div>"
      ],
      "text/plain": [
       "   vas_id      0      1\n",
       "0     1.0  0.982  0.018\n",
       "1     2.0  0.981  0.019\n",
       "2     4.0  0.746  0.254\n",
       "3     5.0  0.982  0.018\n",
       "4     6.0  0.573  0.427\n",
       "5     7.0  0.986  0.014\n",
       "6     8.0  0.974  0.026\n",
       "7     9.0  0.817  0.183"
      ]
     },
     "execution_count": 231,
     "metadata": {},
     "output_type": "execute_result"
    }
   ],
   "source": [
    "dic = {'vas_id':[],\n",
    "       '0':[],\n",
    "       '1':[]\n",
    "        }\n",
    "vas_ids = np.sort(train_df['vas_id'].unique())\n",
    "\n",
    "for vas_id in vas_ids:\n",
    "    temp_df = train_df.loc[(train_df['vas_id']==vas_id)]\n",
    "    c_0 = len(temp_df.loc[(temp_df['target']==0)])/len(temp_df['target'])\n",
    "    c_1 = len(temp_df.loc[(temp_df['target']==1)])/len(temp_df['target'])\n",
    "    dic['vas_id'].append(vas_id)\n",
    "    dic['0'].append(f'{c_0:.3f}')\n",
    "    dic['1'].append(f'{c_1:.3f}')\n",
    "pd.DataFrame(dic)"
   ]
  },
  {
   "cell_type": "markdown",
   "id": "d254f608",
   "metadata": {},
   "source": [
    "##### Здесь та же таблица,только популярность услуг выражена в процентах.Всё синхронно--услуги 4 и 6 в лидерах"
   ]
  },
  {
   "cell_type": "markdown",
   "id": "09ee8124",
   "metadata": {},
   "source": [
    "##### Удалим данные ноябрьского выброса,чтобы он нам не мешал"
   ]
  },
  {
   "cell_type": "code",
   "execution_count": 232,
   "id": "f26c1e97",
   "metadata": {},
   "outputs": [],
   "source": [
    "train_df = train_df[train_df['buy_time'] != int(datetime.datetime(2018,11,19,0,0).timestamp())]"
   ]
  },
  {
   "cell_type": "code",
   "execution_count": 233,
   "id": "8ead30ce",
   "metadata": {},
   "outputs": [
    {
     "data": {
      "text/plain": [
       "[<matplotlib.lines.Line2D at 0x1cf89ff5f40>]"
      ]
     },
     "execution_count": 233,
     "metadata": {},
     "output_type": "execute_result"
    },
    {
     "data": {
      "image/png": "[encoded data removed]",
      "text/plain": [
       "<Figure size 864x432 with 1 Axes>"
      ]
     },
     "metadata": {
      "needs_background": "light"
     },
     "output_type": "display_data"
    }
   ],
   "source": [
    "plt.figure(figsize=(12,6))\n",
    "plt.plot(train_df.loc[(train_df['target']==1, 'date') ].value_counts().sort_index())"
   ]
  },
  {
   "cell_type": "markdown",
   "id": "804e60f0",
   "metadata": {},
   "source": [
    "#### Объединение train_df c features_df"
   ]
  },
  {
   "cell_type": "markdown",
   "id": "0fcdc9b0",
   "metadata": {},
   "source": [
    "##### а)Удаляем из features_df записи по пользователям, которых нет в train_df."
   ]
  },
  {
   "cell_type": "code",
   "execution_count": 234,
   "id": "d3199179",
   "metadata": {},
   "outputs": [],
   "source": [
    "user_ids = train_df['id'].unique()\n",
    "features_df = features_df.compute()\n",
    "\n",
    "features_df = features_df.loc[(features_df['id'].isin(user_ids))]"
   ]
  },
  {
   "cell_type": "code",
   "execution_count": 235,
   "id": "b01e5d6a",
   "metadata": {},
   "outputs": [
    {
     "data": {
      "text/html": [
       "<div>\n",
       "<style scoped>\n",
       "    .dataframe tbody tr th:only-of-type {\n",
       "        vertical-align: middle;\n",
       "    }\n",
       "\n",
       "    .dataframe tbody tr th {\n",
       "        vertical-align: top;\n",
       "    }\n",
       "\n",
       "    .dataframe thead th {\n",
       "        text-align: right;\n",
       "    }\n",
       "</style>\n",
       "<table border=\"1\" class=\"dataframe\">\n",
       "  <thead>\n",
       "    <tr style=\"text-align: right;\">\n",
       "      <th></th>\n",
       "      <th>id</th>\n",
       "      <th>buy_time</th>\n",
       "      <th>0</th>\n",
       "      <th>1</th>\n",
       "      <th>2</th>\n",
       "      <th>3</th>\n",
       "      <th>4</th>\n",
       "      <th>5</th>\n",
       "      <th>6</th>\n",
       "      <th>7</th>\n",
       "      <th>...</th>\n",
       "      <th>243</th>\n",
       "      <th>244</th>\n",
       "      <th>245</th>\n",
       "      <th>246</th>\n",
       "      <th>247</th>\n",
       "      <th>248</th>\n",
       "      <th>249</th>\n",
       "      <th>250</th>\n",
       "      <th>251</th>\n",
       "      <th>252</th>\n",
       "    </tr>\n",
       "  </thead>\n",
       "  <tbody>\n",
       "    <tr>\n",
       "      <th>12393</th>\n",
       "      <td>3513825</td>\n",
       "      <td>1546808400</td>\n",
       "      <td>-9.299971</td>\n",
       "      <td>-231.429112</td>\n",
       "      <td>26.779214</td>\n",
       "      <td>-183.566798</td>\n",
       "      <td>21.361754</td>\n",
       "      <td>-204.67179</td>\n",
       "      <td>-16.08618</td>\n",
       "      <td>-65.076097</td>\n",
       "      <td>...</td>\n",
       "      <td>-977.373846</td>\n",
       "      <td>-613.770792</td>\n",
       "      <td>-25.996269</td>\n",
       "      <td>-37.630448</td>\n",
       "      <td>-306.747724</td>\n",
       "      <td>-25.832889</td>\n",
       "      <td>-0.694428</td>\n",
       "      <td>-12.175933</td>\n",
       "      <td>-0.45614</td>\n",
       "      <td>1.0</td>\n",
       "    </tr>\n",
       "    <tr>\n",
       "      <th>12394</th>\n",
       "      <td>3513869</td>\n",
       "      <td>1548018000</td>\n",
       "      <td>82.370029</td>\n",
       "      <td>-123.429112</td>\n",
       "      <td>155.939214</td>\n",
       "      <td>-88.526798</td>\n",
       "      <td>150.521754</td>\n",
       "      <td>-109.63179</td>\n",
       "      <td>-16.08618</td>\n",
       "      <td>-65.076097</td>\n",
       "      <td>...</td>\n",
       "      <td>-928.373846</td>\n",
       "      <td>-570.770792</td>\n",
       "      <td>-23.996269</td>\n",
       "      <td>-37.630448</td>\n",
       "      <td>-271.747724</td>\n",
       "      <td>-22.832889</td>\n",
       "      <td>-0.694428</td>\n",
       "      <td>-12.175933</td>\n",
       "      <td>-0.45614</td>\n",
       "      <td>0.0</td>\n",
       "    </tr>\n",
       "    <tr>\n",
       "      <th>12407</th>\n",
       "      <td>3517434</td>\n",
       "      <td>1548018000</td>\n",
       "      <td>-96.799971</td>\n",
       "      <td>-284.349112</td>\n",
       "      <td>-100.740786</td>\n",
       "      <td>-274.796798</td>\n",
       "      <td>-106.158246</td>\n",
       "      <td>-295.90179</td>\n",
       "      <td>-16.08618</td>\n",
       "      <td>-65.076097</td>\n",
       "      <td>...</td>\n",
       "      <td>-977.373846</td>\n",
       "      <td>-613.770792</td>\n",
       "      <td>-25.996269</td>\n",
       "      <td>-37.630448</td>\n",
       "      <td>-306.747724</td>\n",
       "      <td>-25.832889</td>\n",
       "      <td>-0.694428</td>\n",
       "      <td>-12.175933</td>\n",
       "      <td>-0.45614</td>\n",
       "      <td>0.0</td>\n",
       "    </tr>\n",
       "    <tr>\n",
       "      <th>12415</th>\n",
       "      <td>3519714</td>\n",
       "      <td>1546808400</td>\n",
       "      <td>167.280029</td>\n",
       "      <td>110.140888</td>\n",
       "      <td>153.339214</td>\n",
       "      <td>57.533202</td>\n",
       "      <td>147.921754</td>\n",
       "      <td>36.42821</td>\n",
       "      <td>-2.00618</td>\n",
       "      <td>-50.996097</td>\n",
       "      <td>...</td>\n",
       "      <td>-977.373846</td>\n",
       "      <td>-613.770792</td>\n",
       "      <td>-14.996269</td>\n",
       "      <td>7.369552</td>\n",
       "      <td>-180.747724</td>\n",
       "      <td>-19.832889</td>\n",
       "      <td>0.305572</td>\n",
       "      <td>-12.175933</td>\n",
       "      <td>-0.45614</td>\n",
       "      <td>0.0</td>\n",
       "    </tr>\n",
       "    <tr>\n",
       "      <th>12421</th>\n",
       "      <td>3521152</td>\n",
       "      <td>1548018000</td>\n",
       "      <td>-96.799971</td>\n",
       "      <td>-198.259112</td>\n",
       "      <td>-110.740786</td>\n",
       "      <td>-250.866798</td>\n",
       "      <td>-116.158246</td>\n",
       "      <td>-263.72179</td>\n",
       "      <td>-16.08618</td>\n",
       "      <td>-65.076097</td>\n",
       "      <td>...</td>\n",
       "      <td>3312.626154</td>\n",
       "      <td>2447.229208</td>\n",
       "      <td>-22.996269</td>\n",
       "      <td>339.369552</td>\n",
       "      <td>17256.252276</td>\n",
       "      <td>-0.832889</td>\n",
       "      <td>0.305572</td>\n",
       "      <td>-12.175933</td>\n",
       "      <td>-0.45614</td>\n",
       "      <td>0.0</td>\n",
       "    </tr>\n",
       "  </tbody>\n",
       "</table>\n",
       "<p>5 rows × 255 columns</p>\n",
       "</div>"
      ],
      "text/plain": [
       "            id    buy_time           0           1           2           3  \\\n",
       "12393  3513825  1546808400   -9.299971 -231.429112   26.779214 -183.566798   \n",
       "12394  3513869  1548018000   82.370029 -123.429112  155.939214  -88.526798   \n",
       "12407  3517434  1548018000  -96.799971 -284.349112 -100.740786 -274.796798   \n",
       "12415  3519714  1546808400  167.280029  110.140888  153.339214   57.533202   \n",
       "12421  3521152  1548018000  -96.799971 -198.259112 -110.740786 -250.866798   \n",
       "\n",
       "                4          5         6          7  ...          243  \\\n",
       "12393   21.361754 -204.67179 -16.08618 -65.076097  ...  -977.373846   \n",
       "12394  150.521754 -109.63179 -16.08618 -65.076097  ...  -928.373846   \n",
       "12407 -106.158246 -295.90179 -16.08618 -65.076097  ...  -977.373846   \n",
       "12415  147.921754   36.42821  -2.00618 -50.996097  ...  -977.373846   \n",
       "12421 -116.158246 -263.72179 -16.08618 -65.076097  ...  3312.626154   \n",
       "\n",
       "               244        245         246           247        248       249  \\\n",
       "12393  -613.770792 -25.996269  -37.630448   -306.747724 -25.832889 -0.694428   \n",
       "12394  -570.770792 -23.996269  -37.630448   -271.747724 -22.832889 -0.694428   \n",
       "12407  -613.770792 -25.996269  -37.630448   -306.747724 -25.832889 -0.694428   \n",
       "12415  -613.770792 -14.996269    7.369552   -180.747724 -19.832889  0.305572   \n",
       "12421  2447.229208 -22.996269  339.369552  17256.252276  -0.832889  0.305572   \n",
       "\n",
       "             250      251  252  \n",
       "12393 -12.175933 -0.45614  1.0  \n",
       "12394 -12.175933 -0.45614  0.0  \n",
       "12407 -12.175933 -0.45614  0.0  \n",
       "12415 -12.175933 -0.45614  0.0  \n",
       "12421 -12.175933 -0.45614  0.0  \n",
       "\n",
       "[5 rows x 255 columns]"
      ]
     },
     "execution_count": 235,
     "metadata": {},
     "output_type": "execute_result"
    }
   ],
   "source": [
    "features_df.tail()"
   ]
  },
  {
   "cell_type": "markdown",
   "id": "0f73c35b",
   "metadata": {},
   "source": [
    "##### б)Объединение таблиц по id пользователей,учитываем тот факт, в таблице features_df должна иметься запись о пользователе с датой меньше либо равной записи в таблице train_df."
   ]
  },
  {
   "cell_type": "code",
   "execution_count": 236,
   "id": "3e039df5",
   "metadata": {},
   "outputs": [],
   "source": [
    "train_df = train_df.sort_index()\n",
    "train_df = train_df.sort_values(by=\"buy_time\")\n",
    "features_df = features_df.sort_values(by=\"buy_time\")"
   ]
  },
  {
   "cell_type": "code",
   "execution_count": 237,
   "id": "3df2c3d5",
   "metadata": {},
   "outputs": [
    {
     "data": {
      "text/html": [
       "<div>\n",
       "<style scoped>\n",
       "    .dataframe tbody tr th:only-of-type {\n",
       "        vertical-align: middle;\n",
       "    }\n",
       "\n",
       "    .dataframe tbody tr th {\n",
       "        vertical-align: top;\n",
       "    }\n",
       "\n",
       "    .dataframe thead th {\n",
       "        text-align: right;\n",
       "    }\n",
       "</style>\n",
       "<table border=\"1\" class=\"dataframe\">\n",
       "  <thead>\n",
       "    <tr style=\"text-align: right;\">\n",
       "      <th></th>\n",
       "      <th>id</th>\n",
       "      <th>vas_id</th>\n",
       "      <th>buy_time</th>\n",
       "      <th>target</th>\n",
       "      <th>date</th>\n",
       "    </tr>\n",
       "  </thead>\n",
       "  <tbody>\n",
       "    <tr>\n",
       "      <th>647978</th>\n",
       "      <td>4040850</td>\n",
       "      <td>2.0</td>\n",
       "      <td>1546203600</td>\n",
       "      <td>0.0</td>\n",
       "      <td>2018-12-31</td>\n",
       "    </tr>\n",
       "    <tr>\n",
       "      <th>647972</th>\n",
       "      <td>4167221</td>\n",
       "      <td>6.0</td>\n",
       "      <td>1546203600</td>\n",
       "      <td>1.0</td>\n",
       "      <td>2018-12-31</td>\n",
       "    </tr>\n",
       "    <tr>\n",
       "      <th>647965</th>\n",
       "      <td>2257941</td>\n",
       "      <td>1.0</td>\n",
       "      <td>1546203600</td>\n",
       "      <td>0.0</td>\n",
       "      <td>2018-12-31</td>\n",
       "    </tr>\n",
       "    <tr>\n",
       "      <th>125578</th>\n",
       "      <td>2004081</td>\n",
       "      <td>2.0</td>\n",
       "      <td>1546203600</td>\n",
       "      <td>0.0</td>\n",
       "      <td>2018-12-31</td>\n",
       "    </tr>\n",
       "    <tr>\n",
       "      <th>831652</th>\n",
       "      <td>3022610</td>\n",
       "      <td>2.0</td>\n",
       "      <td>1546203600</td>\n",
       "      <td>0.0</td>\n",
       "      <td>2018-12-31</td>\n",
       "    </tr>\n",
       "  </tbody>\n",
       "</table>\n",
       "</div>"
      ],
      "text/plain": [
       "             id  vas_id    buy_time  target        date\n",
       "647978  4040850     2.0  1546203600     0.0  2018-12-31\n",
       "647972  4167221     6.0  1546203600     1.0  2018-12-31\n",
       "647965  2257941     1.0  1546203600     0.0  2018-12-31\n",
       "125578  2004081     2.0  1546203600     0.0  2018-12-31\n",
       "831652  3022610     2.0  1546203600     0.0  2018-12-31"
      ]
     },
     "execution_count": 237,
     "metadata": {},
     "output_type": "execute_result"
    }
   ],
   "source": [
    "train_df.tail()"
   ]
  },
  {
   "cell_type": "code",
   "execution_count": 238,
   "id": "f4b2b814",
   "metadata": {},
   "outputs": [
    {
     "data": {
      "text/plain": [
       "(808738, 5)"
      ]
     },
     "execution_count": 238,
     "metadata": {},
     "output_type": "execute_result"
    }
   ],
   "source": [
    "train_df.shape"
   ]
  },
  {
   "cell_type": "code",
   "execution_count": 239,
   "id": "052c61a6",
   "metadata": {},
   "outputs": [
    {
     "data": {
      "text/plain": [
       "(822407, 255)"
      ]
     },
     "execution_count": 239,
     "metadata": {},
     "output_type": "execute_result"
    }
   ],
   "source": [
    "features_df.shape"
   ]
  },
  {
   "cell_type": "code",
   "execution_count": 240,
   "id": "4504c490",
   "metadata": {},
   "outputs": [],
   "source": [
    "data_train = pd.merge_asof(train_df, features_df, on='buy_time', by='id')"
   ]
  },
  {
   "cell_type": "code",
   "execution_count": 241,
   "id": "3e27540f",
   "metadata": {},
   "outputs": [
    {
     "data": {
      "text/plain": [
       "(808738, 258)"
      ]
     },
     "execution_count": 241,
     "metadata": {},
     "output_type": "execute_result"
    }
   ],
   "source": [
    "data_train.shape"
   ]
  },
  {
   "cell_type": "markdown",
   "id": "7a065683",
   "metadata": {},
   "source": [
    "##### Количество строк  в train_df.shape и data_train.shape совпадают"
   ]
  },
  {
   "cell_type": "markdown",
   "id": "de2e8dc4",
   "metadata": {},
   "source": [
    "#####  Проверка на nan значения"
   ]
  },
  {
   "cell_type": "code",
   "execution_count": 242,
   "id": "537389ba",
   "metadata": {},
   "outputs": [
    {
     "data": {
      "text/plain": [
       "id          False\n",
       "vas_id      False\n",
       "buy_time    False\n",
       "target      False\n",
       "date        False\n",
       "            ...  \n",
       "248          True\n",
       "249          True\n",
       "250          True\n",
       "251          True\n",
       "252          True\n",
       "Length: 258, dtype: bool"
      ]
     },
     "execution_count": 242,
     "metadata": {},
     "output_type": "execute_result"
    }
   ],
   "source": [
    "data_train.isnull().any()"
   ]
  },
  {
   "cell_type": "markdown",
   "id": "2a46dc65",
   "metadata": {},
   "source": [
    "##### в)Добавление новых столбцов в таблицу (День, месяц и номер недели)."
   ]
  },
  {
   "cell_type": "code",
   "execution_count": 243,
   "id": "ad065e76",
   "metadata": {},
   "outputs": [],
   "source": [
    "data_train['week_on_month'] = data_train['date'].apply(lambda x: pd.to_datetime(x).day//7)\n",
    "data_train['day'] = data_train['date'].apply(lambda x: pd.to_datetime(x).day)\n",
    "data_train['month'] = data_train['date'].apply(lambda x: pd.to_datetime(x).month)\n",
    "# data_train['year'] = data_train['date'].apply(lambda x: pd.to_datetime(x).year)\n",
    "data_train = data_train.drop('date', axis=1)\n",
    "data_train = data_train.drop('buy_time', axis=1)"
   ]
  },
  {
   "cell_type": "code",
   "execution_count": 33,
   "id": "f4915318",
   "metadata": {},
   "outputs": [
    {
     "data": {
      "text/html": [
       "<div>\n",
       "<style scoped>\n",
       "    .dataframe tbody tr th:only-of-type {\n",
       "        vertical-align: middle;\n",
       "    }\n",
       "\n",
       "    .dataframe tbody tr th {\n",
       "        vertical-align: top;\n",
       "    }\n",
       "\n",
       "    .dataframe thead th {\n",
       "        text-align: right;\n",
       "    }\n",
       "</style>\n",
       "<table border=\"1\" class=\"dataframe\">\n",
       "  <thead>\n",
       "    <tr style=\"text-align: right;\">\n",
       "      <th></th>\n",
       "      <th>id</th>\n",
       "      <th>buy_time</th>\n",
       "      <th>0</th>\n",
       "      <th>1</th>\n",
       "      <th>2</th>\n",
       "      <th>3</th>\n",
       "      <th>4</th>\n",
       "      <th>5</th>\n",
       "      <th>6</th>\n",
       "      <th>7</th>\n",
       "      <th>...</th>\n",
       "      <th>243</th>\n",
       "      <th>244</th>\n",
       "      <th>245</th>\n",
       "      <th>246</th>\n",
       "      <th>247</th>\n",
       "      <th>248</th>\n",
       "      <th>249</th>\n",
       "      <th>250</th>\n",
       "      <th>251</th>\n",
       "      <th>252</th>\n",
       "    </tr>\n",
       "  </thead>\n",
       "  <tbody>\n",
       "    <tr>\n",
       "      <th>6980</th>\n",
       "      <td>1510201</td>\n",
       "      <td>1541970000</td>\n",
       "      <td>349.350029</td>\n",
       "      <td>1289.570888</td>\n",
       "      <td>377.779214</td>\n",
       "      <td>1524.253202</td>\n",
       "      <td>372.361754</td>\n",
       "      <td>1503.14821</td>\n",
       "      <td>365.26382</td>\n",
       "      <td>316.273903</td>\n",
       "      <td>...</td>\n",
       "      <td>657.626154</td>\n",
       "      <td>962.229208</td>\n",
       "      <td>111.003731</td>\n",
       "      <td>199.369552</td>\n",
       "      <td>-156.747724</td>\n",
       "      <td>-6.832889</td>\n",
       "      <td>13.305572</td>\n",
       "      <td>-12.175933</td>\n",
       "      <td>-0.45614</td>\n",
       "      <td>0.0</td>\n",
       "    </tr>\n",
       "  </tbody>\n",
       "</table>\n",
       "<p>1 rows × 255 columns</p>\n",
       "</div>"
      ],
      "text/plain": [
       "           id    buy_time           0            1           2            3  \\\n",
       "6980  1510201  1541970000  349.350029  1289.570888  377.779214  1524.253202   \n",
       "\n",
       "               4           5          6           7  ...         243  \\\n",
       "6980  372.361754  1503.14821  365.26382  316.273903  ...  657.626154   \n",
       "\n",
       "             244         245         246         247       248        249  \\\n",
       "6980  962.229208  111.003731  199.369552 -156.747724 -6.832889  13.305572   \n",
       "\n",
       "            250      251  252  \n",
       "6980 -12.175933 -0.45614  0.0  \n",
       "\n",
       "[1 rows x 255 columns]"
      ]
     },
     "execution_count": 33,
     "metadata": {},
     "output_type": "execute_result"
    }
   ],
   "source": [
    "features_df.loc[(features_df['id']==1510201)]"
   ]
  },
  {
   "cell_type": "code",
   "execution_count": 78,
   "id": "1d294744",
   "metadata": {},
   "outputs": [
    {
     "data": {
      "text/html": [
       "<div>\n",
       "<style scoped>\n",
       "    .dataframe tbody tr th:only-of-type {\n",
       "        vertical-align: middle;\n",
       "    }\n",
       "\n",
       "    .dataframe tbody tr th {\n",
       "        vertical-align: top;\n",
       "    }\n",
       "\n",
       "    .dataframe thead th {\n",
       "        text-align: right;\n",
       "    }\n",
       "</style>\n",
       "<table border=\"1\" class=\"dataframe\">\n",
       "  <thead>\n",
       "    <tr style=\"text-align: right;\">\n",
       "      <th></th>\n",
       "      <th>id</th>\n",
       "      <th>vas_id</th>\n",
       "      <th>buy_time</th>\n",
       "      <th>target</th>\n",
       "      <th>date</th>\n",
       "    </tr>\n",
       "  </thead>\n",
       "  <tbody>\n",
       "    <tr>\n",
       "      <th>449997</th>\n",
       "      <td>1510201</td>\n",
       "      <td>6.0</td>\n",
       "      <td>1544389200</td>\n",
       "      <td>1.0</td>\n",
       "      <td>2018-12-10</td>\n",
       "    </tr>\n",
       "    <tr>\n",
       "      <th>449996</th>\n",
       "      <td>1510201</td>\n",
       "      <td>4.0</td>\n",
       "      <td>1544994000</td>\n",
       "      <td>0.0</td>\n",
       "      <td>2018-12-17</td>\n",
       "    </tr>\n",
       "    <tr>\n",
       "      <th>449998</th>\n",
       "      <td>1510201</td>\n",
       "      <td>6.0</td>\n",
       "      <td>1544994000</td>\n",
       "      <td>1.0</td>\n",
       "      <td>2018-12-17</td>\n",
       "    </tr>\n",
       "  </tbody>\n",
       "</table>\n",
       "</div>"
      ],
      "text/plain": [
       "             id  vas_id    buy_time  target        date\n",
       "449997  1510201     6.0  1544389200     1.0  2018-12-10\n",
       "449996  1510201     4.0  1544994000     0.0  2018-12-17\n",
       "449998  1510201     6.0  1544994000     1.0  2018-12-17"
      ]
     },
     "execution_count": 78,
     "metadata": {},
     "output_type": "execute_result"
    }
   ],
   "source": [
    "train_df.loc[(train_df['id']==1510201)]"
   ]
  },
  {
   "cell_type": "code",
   "execution_count": 244,
   "id": "1c62adf6",
   "metadata": {},
   "outputs": [
    {
     "data": {
      "text/plain": [
       "1.0     2840\n",
       "2.0     1884\n",
       "4.0    16125\n",
       "5.0      482\n",
       "6.0    23220\n",
       "7.0       47\n",
       "8.0       31\n",
       "9.0      139\n",
       "Name: vas_id, dtype: int64"
      ]
     },
     "execution_count": 244,
     "metadata": {},
     "output_type": "execute_result"
    }
   ],
   "source": [
    "data_train.loc[(data_train['target']==1, 'vas_id') ].value_counts().sort_index()"
   ]
  },
  {
   "cell_type": "markdown",
   "id": "82698af3",
   "metadata": {},
   "source": [
    "##### Тип признака vas_id отнесён к целым числам"
   ]
  },
  {
   "cell_type": "code",
   "execution_count": 245,
   "id": "940af965",
   "metadata": {},
   "outputs": [],
   "source": [
    "data_train.to_csv(DATA_TRAIN_FEATURES_PATH, index=False)"
   ]
  },
  {
   "cell_type": "markdown",
   "id": "763b22c5",
   "metadata": {},
   "source": []
  },
  {
   "cell_type": "markdown",
   "id": "b0d6e58d",
   "metadata": {},
   "source": [
    "#### Выполним вышеуказанные операции для тестовой выборки"
   ]
  },
  {
   "cell_type": "code",
   "execution_count": 185,
   "id": "9d04d5ad",
   "metadata": {},
   "outputs": [],
   "source": [
    "test_df = pd.read_csv(users_data_df_PATH)\n",
    "test_df = test_df.drop('Unnamed: 0', axis=1)"
   ]
  },
  {
   "cell_type": "markdown",
   "id": "e60096e4",
   "metadata": {},
   "source": [
    "##### Переведём данные к удобному формату с помощью модуля datetime¶"
   ]
  },
  {
   "cell_type": "code",
   "execution_count": 186,
   "id": "dd07f3e0",
   "metadata": {},
   "outputs": [],
   "source": [
    "test_df['date'] =  test_df['buy_time'].apply(lambda x: date.fromtimestamp(x))"
   ]
  },
  {
   "cell_type": "code",
   "execution_count": 187,
   "id": "b316c9ce",
   "metadata": {},
   "outputs": [
    {
     "name": "stdout",
     "output_type": "stream",
     "text": [
      "min: 2019-01-07 | max: 2019-01-21\n"
     ]
    }
   ],
   "source": [
    "print(f\"min: {test_df['date'].min()} | max: {test_df['date'].max()}\")"
   ]
  },
  {
   "cell_type": "code",
   "execution_count": 188,
   "id": "c817b916",
   "metadata": {},
   "outputs": [
    {
     "data": {
      "text/html": [
       "<div>\n",
       "<style scoped>\n",
       "    .dataframe tbody tr th:only-of-type {\n",
       "        vertical-align: middle;\n",
       "    }\n",
       "\n",
       "    .dataframe tbody tr th {\n",
       "        vertical-align: top;\n",
       "    }\n",
       "\n",
       "    .dataframe thead th {\n",
       "        text-align: right;\n",
       "    }\n",
       "</style>\n",
       "<table border=\"1\" class=\"dataframe\">\n",
       "  <thead>\n",
       "    <tr style=\"text-align: right;\">\n",
       "      <th></th>\n",
       "      <th>id</th>\n",
       "      <th>vas_id</th>\n",
       "      <th>buy_time</th>\n",
       "      <th>date</th>\n",
       "    </tr>\n",
       "  </thead>\n",
       "  <tbody>\n",
       "    <tr>\n",
       "      <th>0</th>\n",
       "      <td>3130519</td>\n",
       "      <td>2.0</td>\n",
       "      <td>1548018000</td>\n",
       "      <td>2019-01-21</td>\n",
       "    </tr>\n",
       "    <tr>\n",
       "      <th>1</th>\n",
       "      <td>2000860</td>\n",
       "      <td>4.0</td>\n",
       "      <td>1548018000</td>\n",
       "      <td>2019-01-21</td>\n",
       "    </tr>\n",
       "    <tr>\n",
       "      <th>2</th>\n",
       "      <td>1099444</td>\n",
       "      <td>2.0</td>\n",
       "      <td>1546808400</td>\n",
       "      <td>2019-01-07</td>\n",
       "    </tr>\n",
       "    <tr>\n",
       "      <th>3</th>\n",
       "      <td>1343255</td>\n",
       "      <td>5.0</td>\n",
       "      <td>1547413200</td>\n",
       "      <td>2019-01-14</td>\n",
       "    </tr>\n",
       "    <tr>\n",
       "      <th>4</th>\n",
       "      <td>1277040</td>\n",
       "      <td>2.0</td>\n",
       "      <td>1546808400</td>\n",
       "      <td>2019-01-07</td>\n",
       "    </tr>\n",
       "  </tbody>\n",
       "</table>\n",
       "</div>"
      ],
      "text/plain": [
       "        id  vas_id    buy_time        date\n",
       "0  3130519     2.0  1548018000  2019-01-21\n",
       "1  2000860     4.0  1548018000  2019-01-21\n",
       "2  1099444     2.0  1546808400  2019-01-07\n",
       "3  1343255     5.0  1547413200  2019-01-14\n",
       "4  1277040     2.0  1546808400  2019-01-07"
      ]
     },
     "execution_count": 188,
     "metadata": {},
     "output_type": "execute_result"
    }
   ],
   "source": [
    "test_df.head()"
   ]
  },
  {
   "cell_type": "code",
   "execution_count": 189,
   "id": "4c5b3f66",
   "metadata": {},
   "outputs": [
    {
     "data": {
      "text/html": [
       "<div>\n",
       "<style scoped>\n",
       "    .dataframe tbody tr th:only-of-type {\n",
       "        vertical-align: middle;\n",
       "    }\n",
       "\n",
       "    .dataframe tbody tr th {\n",
       "        vertical-align: top;\n",
       "    }\n",
       "\n",
       "    .dataframe thead th {\n",
       "        text-align: right;\n",
       "    }\n",
       "</style>\n",
       "<table border=\"1\" class=\"dataframe\">\n",
       "  <thead>\n",
       "    <tr style=\"text-align: right;\">\n",
       "      <th></th>\n",
       "      <th>id</th>\n",
       "      <th>vas_id</th>\n",
       "      <th>buy_time</th>\n",
       "      <th>date</th>\n",
       "    </tr>\n",
       "  </thead>\n",
       "  <tbody>\n",
       "    <tr>\n",
       "      <th>71226</th>\n",
       "      <td>2502453</td>\n",
       "      <td>5.0</td>\n",
       "      <td>1548018000</td>\n",
       "      <td>2019-01-21</td>\n",
       "    </tr>\n",
       "    <tr>\n",
       "      <th>71227</th>\n",
       "      <td>1693213</td>\n",
       "      <td>2.0</td>\n",
       "      <td>1548018000</td>\n",
       "      <td>2019-01-21</td>\n",
       "    </tr>\n",
       "    <tr>\n",
       "      <th>71228</th>\n",
       "      <td>1891350</td>\n",
       "      <td>2.0</td>\n",
       "      <td>1548018000</td>\n",
       "      <td>2019-01-21</td>\n",
       "    </tr>\n",
       "    <tr>\n",
       "      <th>71229</th>\n",
       "      <td>2437172</td>\n",
       "      <td>2.0</td>\n",
       "      <td>1548018000</td>\n",
       "      <td>2019-01-21</td>\n",
       "    </tr>\n",
       "    <tr>\n",
       "      <th>71230</th>\n",
       "      <td>988236</td>\n",
       "      <td>2.0</td>\n",
       "      <td>1548018000</td>\n",
       "      <td>2019-01-21</td>\n",
       "    </tr>\n",
       "  </tbody>\n",
       "</table>\n",
       "</div>"
      ],
      "text/plain": [
       "            id  vas_id    buy_time        date\n",
       "71226  2502453     5.0  1548018000  2019-01-21\n",
       "71227  1693213     2.0  1548018000  2019-01-21\n",
       "71228  1891350     2.0  1548018000  2019-01-21\n",
       "71229  2437172     2.0  1548018000  2019-01-21\n",
       "71230   988236     2.0  1548018000  2019-01-21"
      ]
     },
     "execution_count": 189,
     "metadata": {},
     "output_type": "execute_result"
    }
   ],
   "source": [
    "test_df.tail()"
   ]
  },
  {
   "cell_type": "code",
   "execution_count": 190,
   "id": "a725245c",
   "metadata": {},
   "outputs": [
    {
     "data": {
      "text/plain": [
       "904411     3\n",
       "409367     3\n",
       "898205     3\n",
       "1891312    3\n",
       "44545      3\n",
       "          ..\n",
       "1210480    1\n",
       "4218995    1\n",
       "2658349    1\n",
       "3975210    1\n",
       "3278847    1\n",
       "Name: id, Length: 70152, dtype: int64"
      ]
     },
     "execution_count": 190,
     "metadata": {},
     "output_type": "execute_result"
    }
   ],
   "source": [
    "test_df['id'].value_counts().sort_values(ascending=False)"
   ]
  },
  {
   "cell_type": "markdown",
   "id": "5a21f4ab",
   "metadata": {},
   "source": [
    "##### Из сортировки видно,что некоторым пользователям делались предложения по 2-3 раза.¶"
   ]
  },
  {
   "cell_type": "markdown",
   "id": "adc3c23c",
   "metadata": {},
   "source": [
    "#### Объединение test_df c features_df"
   ]
  },
  {
   "cell_type": "markdown",
   "id": "bd847572",
   "metadata": {},
   "source": [
    "##### а)Удаляем из features_df записи по пользователям, которых нет в test_df.¶"
   ]
  },
  {
   "cell_type": "code",
   "execution_count": 194,
   "id": "ecaf5973",
   "metadata": {},
   "outputs": [
    {
     "data": {
      "text/html": [
       "<div>\n",
       "<style scoped>\n",
       "    .dataframe tbody tr th:only-of-type {\n",
       "        vertical-align: middle;\n",
       "    }\n",
       "\n",
       "    .dataframe tbody tr th {\n",
       "        vertical-align: top;\n",
       "    }\n",
       "\n",
       "    .dataframe thead th {\n",
       "        text-align: right;\n",
       "    }\n",
       "</style>\n",
       "<table border=\"1\" class=\"dataframe\">\n",
       "  <thead>\n",
       "    <tr style=\"text-align: right;\">\n",
       "      <th></th>\n",
       "      <th>id</th>\n",
       "      <th>buy_time</th>\n",
       "      <th>0</th>\n",
       "      <th>1</th>\n",
       "      <th>2</th>\n",
       "      <th>3</th>\n",
       "      <th>4</th>\n",
       "      <th>5</th>\n",
       "      <th>6</th>\n",
       "      <th>7</th>\n",
       "      <th>...</th>\n",
       "      <th>243</th>\n",
       "      <th>244</th>\n",
       "      <th>245</th>\n",
       "      <th>246</th>\n",
       "      <th>247</th>\n",
       "      <th>248</th>\n",
       "      <th>249</th>\n",
       "      <th>250</th>\n",
       "      <th>251</th>\n",
       "      <th>252</th>\n",
       "    </tr>\n",
       "  </thead>\n",
       "  <tbody>\n",
       "    <tr>\n",
       "      <th>778</th>\n",
       "      <td>3441297</td>\n",
       "      <td>1548018000</td>\n",
       "      <td>-96.799971</td>\n",
       "      <td>-408.179112</td>\n",
       "      <td>-110.740786</td>\n",
       "      <td>-460.786798</td>\n",
       "      <td>-116.158246</td>\n",
       "      <td>-481.89179</td>\n",
       "      <td>-16.08618</td>\n",
       "      <td>-65.076097</td>\n",
       "      <td>...</td>\n",
       "      <td>-977.373846</td>\n",
       "      <td>-613.770792</td>\n",
       "      <td>-25.996269</td>\n",
       "      <td>-37.630448</td>\n",
       "      <td>-306.747724</td>\n",
       "      <td>-25.832889</td>\n",
       "      <td>-0.694428</td>\n",
       "      <td>-12.175933</td>\n",
       "      <td>-0.45614</td>\n",
       "      <td>0.0</td>\n",
       "    </tr>\n",
       "    <tr>\n",
       "      <th>12661</th>\n",
       "      <td>4698</td>\n",
       "      <td>1548018000</td>\n",
       "      <td>-93.799971</td>\n",
       "      <td>-337.249112</td>\n",
       "      <td>-107.740786</td>\n",
       "      <td>-360.686798</td>\n",
       "      <td>-113.158246</td>\n",
       "      <td>-381.79179</td>\n",
       "      <td>-16.08618</td>\n",
       "      <td>-65.076097</td>\n",
       "      <td>...</td>\n",
       "      <td>934.626154</td>\n",
       "      <td>-611.770792</td>\n",
       "      <td>-25.996269</td>\n",
       "      <td>3571.369552</td>\n",
       "      <td>-120.747724</td>\n",
       "      <td>25.167111</td>\n",
       "      <td>-0.694428</td>\n",
       "      <td>-12.175933</td>\n",
       "      <td>-0.45614</td>\n",
       "      <td>1.0</td>\n",
       "    </tr>\n",
       "    <tr>\n",
       "      <th>1064</th>\n",
       "      <td>656122</td>\n",
       "      <td>1548018000</td>\n",
       "      <td>-32.219971</td>\n",
       "      <td>-145.469112</td>\n",
       "      <td>51.179214</td>\n",
       "      <td>-72.766798</td>\n",
       "      <td>45.761754</td>\n",
       "      <td>-93.87179</td>\n",
       "      <td>-16.08618</td>\n",
       "      <td>-65.076097</td>\n",
       "      <td>...</td>\n",
       "      <td>-977.373846</td>\n",
       "      <td>-613.770792</td>\n",
       "      <td>-25.996269</td>\n",
       "      <td>-37.630448</td>\n",
       "      <td>-306.747724</td>\n",
       "      <td>-25.832889</td>\n",
       "      <td>-0.694428</td>\n",
       "      <td>-12.175933</td>\n",
       "      <td>-0.45614</td>\n",
       "      <td>0.0</td>\n",
       "    </tr>\n",
       "    <tr>\n",
       "      <th>5253</th>\n",
       "      <td>50923</td>\n",
       "      <td>1548018000</td>\n",
       "      <td>69.860029</td>\n",
       "      <td>-4.019112</td>\n",
       "      <td>83.429214</td>\n",
       "      <td>-3.786798</td>\n",
       "      <td>78.011754</td>\n",
       "      <td>-24.89179</td>\n",
       "      <td>-16.08618</td>\n",
       "      <td>-65.076097</td>\n",
       "      <td>...</td>\n",
       "      <td>-961.373846</td>\n",
       "      <td>-613.770792</td>\n",
       "      <td>-24.996269</td>\n",
       "      <td>-37.630448</td>\n",
       "      <td>-242.747724</td>\n",
       "      <td>-25.832889</td>\n",
       "      <td>-0.694428</td>\n",
       "      <td>-12.175933</td>\n",
       "      <td>-0.45614</td>\n",
       "      <td>1.0</td>\n",
       "    </tr>\n",
       "    <tr>\n",
       "      <th>6591</th>\n",
       "      <td>987518</td>\n",
       "      <td>1548018000</td>\n",
       "      <td>-96.799971</td>\n",
       "      <td>-408.179112</td>\n",
       "      <td>-110.740786</td>\n",
       "      <td>-460.786798</td>\n",
       "      <td>-116.158246</td>\n",
       "      <td>-481.89179</td>\n",
       "      <td>-16.08618</td>\n",
       "      <td>-65.076097</td>\n",
       "      <td>...</td>\n",
       "      <td>-977.373846</td>\n",
       "      <td>-613.770792</td>\n",
       "      <td>-25.996269</td>\n",
       "      <td>-37.630448</td>\n",
       "      <td>-306.747724</td>\n",
       "      <td>-25.832889</td>\n",
       "      <td>-0.694428</td>\n",
       "      <td>-12.175933</td>\n",
       "      <td>-0.45614</td>\n",
       "      <td>0.0</td>\n",
       "    </tr>\n",
       "  </tbody>\n",
       "</table>\n",
       "<p>5 rows × 255 columns</p>\n",
       "</div>"
      ],
      "text/plain": [
       "            id    buy_time          0           1           2           3  \\\n",
       "778    3441297  1548018000 -96.799971 -408.179112 -110.740786 -460.786798   \n",
       "12661     4698  1548018000 -93.799971 -337.249112 -107.740786 -360.686798   \n",
       "1064    656122  1548018000 -32.219971 -145.469112   51.179214  -72.766798   \n",
       "5253     50923  1548018000  69.860029   -4.019112   83.429214   -3.786798   \n",
       "6591    987518  1548018000 -96.799971 -408.179112 -110.740786 -460.786798   \n",
       "\n",
       "                4          5         6          7  ...         243  \\\n",
       "778   -116.158246 -481.89179 -16.08618 -65.076097  ... -977.373846   \n",
       "12661 -113.158246 -381.79179 -16.08618 -65.076097  ...  934.626154   \n",
       "1064    45.761754  -93.87179 -16.08618 -65.076097  ... -977.373846   \n",
       "5253    78.011754  -24.89179 -16.08618 -65.076097  ... -961.373846   \n",
       "6591  -116.158246 -481.89179 -16.08618 -65.076097  ... -977.373846   \n",
       "\n",
       "              244        245          246         247        248       249  \\\n",
       "778   -613.770792 -25.996269   -37.630448 -306.747724 -25.832889 -0.694428   \n",
       "12661 -611.770792 -25.996269  3571.369552 -120.747724  25.167111 -0.694428   \n",
       "1064  -613.770792 -25.996269   -37.630448 -306.747724 -25.832889 -0.694428   \n",
       "5253  -613.770792 -24.996269   -37.630448 -242.747724 -25.832889 -0.694428   \n",
       "6591  -613.770792 -25.996269   -37.630448 -306.747724 -25.832889 -0.694428   \n",
       "\n",
       "             250      251  252  \n",
       "778   -12.175933 -0.45614  0.0  \n",
       "12661 -12.175933 -0.45614  1.0  \n",
       "1064  -12.175933 -0.45614  0.0  \n",
       "5253  -12.175933 -0.45614  1.0  \n",
       "6591  -12.175933 -0.45614  0.0  \n",
       "\n",
       "[5 rows x 255 columns]"
      ]
     },
     "execution_count": 194,
     "metadata": {},
     "output_type": "execute_result"
    }
   ],
   "source": [
    "user_ids_test = test_df['id'].unique()\n",
    "\n",
    "\n",
    "features_df = features_df.loc[(features_df['id'].isin(user_ids_test))]\n",
    "features_df.tail()"
   ]
  },
  {
   "cell_type": "markdown",
   "id": "5b48bd5b",
   "metadata": {},
   "source": [
    "##### б)Объединение таблиц по id пользователей,учитываем тот факт, в таблице features_df должна иметься запись о пользователе с датой меньше либо равной записи в таблице test_df.¶"
   ]
  },
  {
   "cell_type": "code",
   "execution_count": 196,
   "id": "a042ee67",
   "metadata": {},
   "outputs": [],
   "source": [
    "test_df = test_df.sort_index()\n",
    "test_df = test_df.sort_values(by=\"buy_time\")\n",
    "features_df = features_df.sort_values(by=\"buy_time\")"
   ]
  },
  {
   "cell_type": "code",
   "execution_count": 197,
   "id": "31b47bf2",
   "metadata": {},
   "outputs": [
    {
     "data": {
      "text/plain": [
       "(71231, 4)"
      ]
     },
     "execution_count": 197,
     "metadata": {},
     "output_type": "execute_result"
    }
   ],
   "source": [
    "test_df.shape"
   ]
  },
  {
   "cell_type": "code",
   "execution_count": 198,
   "id": "8d4fde6f",
   "metadata": {},
   "outputs": [
    {
     "data": {
      "text/plain": [
       "(3817, 255)"
      ]
     },
     "execution_count": 198,
     "metadata": {},
     "output_type": "execute_result"
    }
   ],
   "source": [
    "features_df.shape"
   ]
  },
  {
   "cell_type": "code",
   "execution_count": 199,
   "id": "1bbfd86b",
   "metadata": {},
   "outputs": [],
   "source": [
    "data_test = pd.merge_asof(test_df, features_df, on='buy_time', by='id')"
   ]
  },
  {
   "cell_type": "code",
   "execution_count": 200,
   "id": "0148c3ca",
   "metadata": {},
   "outputs": [
    {
     "data": {
      "text/plain": [
       "id          False\n",
       "vas_id      False\n",
       "buy_time    False\n",
       "date        False\n",
       "0            True\n",
       "            ...  \n",
       "248          True\n",
       "249          True\n",
       "250          True\n",
       "251          True\n",
       "252          True\n",
       "Length: 257, dtype: bool"
      ]
     },
     "execution_count": 200,
     "metadata": {},
     "output_type": "execute_result"
    }
   ],
   "source": [
    "data_test.isnull().any()"
   ]
  },
  {
   "cell_type": "code",
   "execution_count": 204,
   "id": "2cfe056d",
   "metadata": {},
   "outputs": [
    {
     "data": {
      "text/plain": [
       "id       vas_id  buy_time    date        0           1            2           3          4           5         6          7           8         9           10         11         12         13          14         15         16         17         18        19         20          21          22         23         24         25         26        27        28        29        30        31         32         33        34        35         36         37           38           39           40           41          42           43           44          45          46         47         48          49          50        51         52          53         54         55         56         57         58          59         60         61         62         63         64         65         66         67         68         69         70         71         72        73         74         75   76         77          78       79         80         81   82         83         84         85   86         87         88         89         90         91         92         93         94         95         96         97         98         99          100        101        102        103       104        105        106        107        108         109        110        111       112          113          114       115        116          117           118        119       120        121        122        123         124          125          126       127       128       129        130         131        132        133        134          135        136        137        138        139  140        141        142        143         144         145       146         147        148        149        150        151         152        153        154        155        156        157        158        159        160        161        162        163        164       165         166         167         168         169         170         171         172         173        174        175        176        177        178        179        180       181       182       183        184        185         186        187         188         189        190        191       192       193        194        195       196       197        198       199        200       201       202        203  204       205       206        207          208            209        210         211            212        213            214           215       216        217        218       219        220        221        222           223         224            225            226       227        228         229         230         231        232        233        234         235          236        237        238         239          240          241         242         243         244          245       246         247         248        249        250        251       252\n",
       "1427271  6.0     1546808400  2019-01-07  -87.299971  -368.999112  339.439214  48.733202  334.021754  27.62821  -16.08618  -65.076097  -6.78366  -30.006538  -2.736081  -4.007526  -2.558912  -56.689127  -68.01811  -0.000725  -0.016435  -0.107041  -5.41746  -3.178521  426.739185  380.115836  -0.094251  -0.001733  -0.009327  -2.082209  0.200138  -0.00909  1.648138  1.785634  0.788392  -0.001884  -0.000023  -0.00003  -2.65939  -0.065583  -0.700765  -192.026959  4255.140596  -611.515837  4866.656436  -89.504287  -119.724355  -115.278686  -50.219191  -65.059494  14.187052  -5.830575  -10.717958  -28.571103  2.869716  -2.088986  -19.171711  -3.331295  -4.958702  -9.745251  -1.671324  -0.001656  -27.681646  -1.882665  -0.265234  -0.408162  -0.091644  -0.237576  -0.295662  -0.028454  -0.044465  -0.301128  -0.554677  -0.036834  -0.130031  -2.783592  -2.60662  -5.390212  -4.022547  0.0  -2.824022  -10.706438  -1.2015  -0.998268  -0.203232  0.0  -0.248755  -0.222852  -0.134088  0.0  -0.030537  -0.125866  -0.096986  -0.679774  -0.626985  -0.691912  -0.506613  -0.185299  -0.598716  -0.000115  -0.250188  -0.348913  -0.828382  -42.275915  -3.950157  -0.253037  -0.318148  -2.29064  -3.447583  -0.040043  -9.408469  -0.212137  -11.955314  -1.019293  -1.473446  -4.62084  -612.711723  4864.519737  -0.21799  -0.053857  4251.808013  -2298.725139  -0.343415  -0.08972  -0.278878  -0.433135  -0.024048  -89.211948  -119.674411  -208.886358  0.061923  0.069549  0.134871  -3.618164  -13.681641  -3.573283  -0.468443  -0.417283  -190.670372  -1.143223  -2.722591  -0.825973  -1.935988  0.0  -1.276187  -0.020137  -0.042636  -29.797016  -89.237467  -2.96363  -34.888325  -3.861461  -0.317164  -0.007024  -0.143269  -43.417671  -0.212646  -0.019562  -0.000044  -0.000379  46.451144  -0.261309  -0.536315  -0.061481  -0.152157  -0.002595  -4.678214  -0.014542  0.300492  -21.183166  -44.376426  -25.320085  -51.984826  -22.961228  -50.278903  -11.614497  -27.488386  -0.028857  -0.063214  -0.019198  -0.033778  -0.003149  -0.005184  -0.001431  -0.00189  3.742637  2.606363  14.067242  11.675238  -30.978121  -65.10072  -16.354808  -35.303704  -0.034569  -0.163184  2.611208  0.533317  -1.929048  -0.623737  0.771894  0.748041  -0.000567  0.566264  -0.000708  -0.02921  0.895335  -0.001358  0.0  0.039208  0.665644  -0.008999  6662.920176  -45175.257711  -0.622901  -30.716053  -61790.157098  -0.243136  -42051.166127  -9239.707081  -2.10805  -0.000083  -0.622896  -0.00004  -0.620772  -0.012257  -0.107878  9.609197e+08  -53.794078  -4.405604e+08  -1.204418e+08  8.565998  -1.465191  -33.302382  395.871014  -18.772492  -0.364694  -0.133771  -0.209468  -14.356505  -109.884564  328.30898  -1.368281  945.889293  -108.409742  -507.437331  104.382022  -17.295406  928.626154  -548.770792  0.003731  -37.630448  116.252276  25.167111  -0.694428  38.824067  -0.45614  0.0    31361\n",
       "dtype: int64"
      ]
     },
     "execution_count": 204,
     "metadata": {},
     "output_type": "execute_result"
    }
   ],
   "source": [
    "data_test.loc[data_test['vas_id']].value_counts().sort_index()"
   ]
  },
  {
   "cell_type": "markdown",
   "id": "b8fac0be",
   "metadata": {},
   "source": [
    "##### Тип признака vas_id отнесён к целым числам"
   ]
  },
  {
   "cell_type": "markdown",
   "id": "2d1708cb",
   "metadata": {},
   "source": [
    "##### в)Добавление новых столбцов в таблицу (День, месяц и номер недели)."
   ]
  },
  {
   "cell_type": "code",
   "execution_count": 205,
   "id": "883f8411",
   "metadata": {},
   "outputs": [],
   "source": [
    "data_test['week_on_month'] = data_test['date'].apply(lambda x: pd.to_datetime(x).day//7)\n",
    "data_test['day'] = data_test['date'].apply(lambda x: pd.to_datetime(x).day)\n",
    "data_test['month'] = data_test['date'].apply(lambda x: pd.to_datetime(x).month)\n",
    "\n",
    "data_test = data_test.drop('date', axis=1)\n",
    "data_test = data_test.drop('buy_time', axis=1)"
   ]
  },
  {
   "cell_type": "code",
   "execution_count": 206,
   "id": "b617e036",
   "metadata": {},
   "outputs": [
    {
     "data": {
      "text/html": [
       "<div>\n",
       "<style scoped>\n",
       "    .dataframe tbody tr th:only-of-type {\n",
       "        vertical-align: middle;\n",
       "    }\n",
       "\n",
       "    .dataframe tbody tr th {\n",
       "        vertical-align: top;\n",
       "    }\n",
       "\n",
       "    .dataframe thead th {\n",
       "        text-align: right;\n",
       "    }\n",
       "</style>\n",
       "<table border=\"1\" class=\"dataframe\">\n",
       "  <thead>\n",
       "    <tr style=\"text-align: right;\">\n",
       "      <th></th>\n",
       "      <th>id</th>\n",
       "      <th>buy_time</th>\n",
       "      <th>0</th>\n",
       "      <th>1</th>\n",
       "      <th>2</th>\n",
       "      <th>3</th>\n",
       "      <th>4</th>\n",
       "      <th>5</th>\n",
       "      <th>6</th>\n",
       "      <th>7</th>\n",
       "      <th>...</th>\n",
       "      <th>243</th>\n",
       "      <th>244</th>\n",
       "      <th>245</th>\n",
       "      <th>246</th>\n",
       "      <th>247</th>\n",
       "      <th>248</th>\n",
       "      <th>249</th>\n",
       "      <th>250</th>\n",
       "      <th>251</th>\n",
       "      <th>252</th>\n",
       "    </tr>\n",
       "  </thead>\n",
       "  <tbody>\n",
       "  </tbody>\n",
       "</table>\n",
       "<p>0 rows × 255 columns</p>\n",
       "</div>"
      ],
      "text/plain": [
       "Empty DataFrame\n",
       "Columns: [id, buy_time, 0, 1, 2, 3, 4, 5, 6, 7, 8, 9, 10, 11, 12, 13, 14, 15, 16, 17, 18, 19, 20, 21, 22, 23, 24, 25, 26, 27, 28, 29, 30, 31, 32, 33, 34, 35, 36, 37, 38, 39, 40, 41, 42, 43, 44, 45, 46, 47, 48, 49, 50, 51, 52, 53, 54, 55, 56, 57, 58, 59, 60, 61, 62, 63, 64, 65, 66, 67, 68, 69, 70, 71, 72, 73, 74, 75, 76, 77, 78, 79, 80, 81, 82, 83, 84, 85, 86, 87, 88, 89, 90, 91, 92, 93, 94, 95, 96, 97, ...]\n",
       "Index: []\n",
       "\n",
       "[0 rows x 255 columns]"
      ]
     },
     "execution_count": 206,
     "metadata": {},
     "output_type": "execute_result"
    }
   ],
   "source": [
    "features_df.loc[(features_df['id']==1510201)]"
   ]
  },
  {
   "cell_type": "code",
   "execution_count": 207,
   "id": "220eb30e",
   "metadata": {},
   "outputs": [],
   "source": [
    "data_test.to_csv(DATA_TEST_FEATURES_PATH, index=False)"
   ]
  },
  {
   "cell_type": "code",
   "execution_count": null,
   "id": "505eb1b3",
   "metadata": {},
   "outputs": [],
   "source": []
  }
 ],
 "metadata": {
  "kernelspec": {
   "display_name": "Python 3",
   "language": "python",
   "name": "python3"
  },
  "language_info": {
   "codemirror_mode": {
    "name": "ipython",
    "version": 3
   },
   "file_extension": ".py",
   "mimetype": "text/x-python",
   "name": "python",
   "nbconvert_exporter": "python",
   "pygments_lexer": "ipython3",
   "version": "3.8.8"
  }
 },
 "nbformat": 4,
 "nbformat_minor": 5
}
